{
 "cells": [
  {
   "cell_type": "code",
   "execution_count": 1,
   "metadata": {},
   "outputs": [
    {
     "ename": "SyntaxError",
     "evalue": "invalid syntax (<ipython-input-1-94dcfa4f99aa>, line 8)",
     "output_type": "error",
     "traceback": [
      "\u001b[1;36m  File \u001b[1;32m\"<ipython-input-1-94dcfa4f99aa>\"\u001b[1;36m, line \u001b[1;32m8\u001b[0m\n\u001b[1;33m    def wordsFrom File(filepath):\u001b[0m\n\u001b[1;37m                     ^\u001b[0m\n\u001b[1;31mSyntaxError\u001b[0m\u001b[1;31m:\u001b[0m invalid syntax\n"
     ]
    }
   ],
   "source": [
    "def wordCountFile(filepath):\n",
    "    pattern = '[ \\n]'\n",
    "    filedata = readFile(filepath)\n",
    "    count = len(re.split(pattern,filedata))\n",
    "    return count\n",
    "\n",
    "\n",
    "def wordsFrom File(filepath):\n",
    "    pattern = [' \\n']\n",
    "    filedata = readFile(filepath)\n",
    "    allWordsList = re.split(pattern,filedata)\n",
    "    return allWordsList\n",
    "\n"
   ]
  },
  {
   "cell_type": "code",
   "execution_count": null,
   "metadata": {},
   "outputs": [],
   "source": [
    "\n",
    "\n",
    "#Frequency Distribution\n",
    "\n",
    "def FreqDistributionOfWords1(filepath):\n",
    "    # Dictionary to be used\n",
    "        # keys -> unique words\n",
    "        # Values -> count of unique words\n",
    "    \n",
    "    \n",
    "    # Two lists\n",
    "        # All Words list -\n",
    "        # Unique Wordsd list -\n",
    "        \n",
    "    # Set\n",
    "    \n",
    "    \n",
    "    "
   ]
  },
  {
   "cell_type": "code",
   "execution_count": null,
   "metadata": {},
   "outputs": [],
   "source": [
    "# Contact Application\n",
    "    # Add, Search, List, Modify and Delete Contaacts\n",
    "    \n",
    "# Find and Replace Application\n",
    "    # Count the total number of occurences of a word\n",
    "    # If word existing (boolean)\n",
    "    # Replace all occurances of a word with another word\n",
    "\n",
    "# Marks Analysis Application\n",
    "    # Generate marks file for n students\n",
    "    # Input : Marks text file - each line contains marks of one student\n",
    "    # Generates a report with the following information\n",
    "        # Class Average\n",
    "        # % of students passed\n",
    "        # % of failed students\n",
    "        # % of students with distinction\n",
    "        # Highest Mark Frequency\n",
    "        # Lowest Mark Frequency\n",
    "        \n",
    "    "
   ]
  },
  {
   "cell_type": "code",
   "execution_count": 1,
   "metadata": {},
   "outputs": [],
   "source": [
    "# Function to generate marks data for n students\n",
    "from random import randint\n",
    "\n",
    "def generateMarks(n, lb, ub):\n",
    "    with open('DataFiles/marks.txt','w') as f:\n",
    "        for i in range(0, n):\n",
    "            r = randint(lb,ub)\n",
    "            f.write(str(r) + '\\n')\n",
    "    return \n",
    "generateMarks(40,0,100)\n",
    "    "
   ]
  },
  {
   "cell_type": "code",
   "execution_count": null,
   "metadata": {},
   "outputs": [],
   "source": [
    "def Freq(n):\n",
    "    k=len(n)\n",
    "    fre=[]\n",
    "    count=0\n",
    "    p=[]\n",
    "    '''for i in range(10):\n",
    "        p.append(str(i))\n",
    "    print(p)'''\n",
    "    if k <= 10:\n",
    "        l=list(n)\n",
    "        for i in range(0,len(l)-1,1):\n",
    "            if p[i] in l[i]:\n",
    "                count+=1\n",
    "                fre.append(count)\n",
    "            else:\n",
    "                count=0\n",
    "                fre.append(count)\n",
    "        print(fre)\n",
    "\n",
    "\n",
    "n=input()\n",
    "Freq(n)"
   ]
  },
  {
   "cell_type": "code",
   "execution_count": null,
   "metadata": {},
   "outputs": [],
   "source": []
  }
 ],
 "metadata": {
  "kernelspec": {
   "display_name": "Python 3",
   "language": "python",
   "name": "python3"
  },
  "language_info": {
   "codemirror_mode": {
    "name": "ipython",
    "version": 3
   },
   "file_extension": ".py",
   "mimetype": "text/x-python",
   "name": "python",
   "nbconvert_exporter": "python",
   "pygments_lexer": "ipython3",
   "version": "3.7.3"
  }
 },
 "nbformat": 4,
 "nbformat_minor": 2
}
