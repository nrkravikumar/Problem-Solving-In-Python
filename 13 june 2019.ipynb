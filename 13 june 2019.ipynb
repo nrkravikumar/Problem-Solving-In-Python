{
 "cells": [
  {
   "cell_type": "markdown",
   "metadata": {},
   "source": [
    "# Advanced Problem Set:"
   ]
  },
  {
   "cell_type": "code",
   "execution_count": null,
   "metadata": {},
   "outputs": [],
   "source": [
    "#Function to calculate average of all factorials in a give range\n",
    "\n",
    "#Function to generate N odd Armstrong numbers\n",
    "\n",
    "#Function to generate Multiplication table for a number in a give range\n",
    "# Ex: 10 in the range(100,102) inclusive\n",
    "# 10*100 = 1000\n",
    "# 10*101 = 1010"
   ]
  },
  {
   "cell_type": "code",
   "execution_count": 8,
   "metadata": {},
   "outputs": [
    {
     "name": "stdout",
     "output_type": "stream",
     "text": [
      "8.25\n"
     ]
    }
   ],
   "source": [
    "#Function to Calculate Average of all Factorials in a given range\n",
    "\n",
    "def avgFact(n):\n",
    "    fact=1\n",
    "    sum=co=0\n",
    "    for i in range(1,n+1):\n",
    "        fact *=i\n",
    "        sum +=fact\n",
    "        co +=1\n",
    "    print(sum/co)\n",
    "    #print(fact)\n",
    "    #print(sum)\n",
    "    #print(co)\n",
    "avgFact(4)"
   ]
  },
  {
   "cell_type": "code",
   "execution_count": 9,
   "metadata": {},
   "outputs": [
    {
     "name": "stdout",
     "output_type": "stream",
     "text": [
      "10 * 100 = 1000\n",
      "10 * 101 = 1010\n",
      "10 * 102 = 1020\n"
     ]
    }
   ],
   "source": [
    "#Function to generate Multiplication table for a number in a give range\n",
    "# Ex: 10 in the range(100,102) inclusive\n",
    "# 10*100 = 1000\n",
    "# 10*101 = 1010\n",
    "\n",
    "\n",
    "def Multab(n,lw,up):\n",
    "    #while lw!=up:\n",
    "        #print(n,\"*\",lw,\"=\",lw*n)\n",
    "        #lw +=1\n",
    "        \n",
    "    for i in range(lw,up+1):\n",
    "        print(n,\"*\",i,\"=\",n*i)\n",
    "Multab(10,100,102)"
   ]
  },
  {
   "cell_type": "code",
   "execution_count": 1,
   "metadata": {},
   "outputs": [
    {
     "data": {
      "text/plain": [
       "179.46216216216226"
      ]
     },
     "execution_count": 1,
     "metadata": {},
     "output_type": "execute_result"
    }
   ],
   "source": [
    "#Function to generate N odd Armstrong numbers\n",
    "\n",
    "def isArmstrong(nu):\n",
    "    \n",
    "def OddArm(n):\n",
    "    \n",
    "OddArm(153)"
   ]
  },
  {
   "cell_type": "code",
   "execution_count": null,
   "metadata": {},
   "outputs": [],
   "source": []
  }
 ],
 "metadata": {
  "kernelspec": {
   "display_name": "Python 3",
   "language": "python",
   "name": "python3"
  },
  "language_info": {
   "codemirror_mode": {
    "name": "ipython",
    "version": 3
   },
   "file_extension": ".py",
   "mimetype": "text/x-python",
   "name": "python",
   "nbconvert_exporter": "python",
   "pygments_lexer": "ipython3",
   "version": "3.7.3"
  }
 },
 "nbformat": 4,
 "nbformat_minor": 2
}
