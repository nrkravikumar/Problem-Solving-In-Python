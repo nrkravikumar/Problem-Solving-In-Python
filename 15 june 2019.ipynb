{
 "cells": [
  {
   "cell_type": "code",
   "execution_count": 2,
   "metadata": {},
   "outputs": [
    {
     "name": "stdout",
     "output_type": "stream",
     "text": [
      "1\n",
      "3\n"
     ]
    }
   ],
   "source": [
    "#ClosestZero\n",
    "\n",
    "li=[-1,1,2,3]\n",
    "li.sort()\n",
    "pl=[]\n",
    "for i in li:\n",
    "    pl.append(abs(i))\n",
    "pl.sort()\n",
    "if pl[0] in li:\n",
    "    print(pl[0])\n",
    "else:\n",
    "    print(-pl[0])\n",
    "\n",
    "\n",
    "#highest value\n",
    "\n",
    "li=[-1,1,2,3]\n",
    "li.sort()\n",
    "pl=[]\n",
    "for i in li:\n",
    "    pl.append(abs(i))\n",
    "pl.sort()\n",
    "if pl[-1] in li:\n",
    "    print(pl[-1])\n",
    "else:\n",
    "    print(-pl[-1])\n",
    "\n",
    "\n",
    "\n"
   ]
  },
  {
   "cell_type": "markdown",
   "metadata": {},
   "source": [
    "### Problem-3\n",
    "\n",
    "You are given three numbers a,b, and c. Write a program to find the largest number which is less than or equal to c and leaves remainder b when divided by a."
   ]
  },
  {
   "cell_type": "code",
   "execution_count": 3,
   "metadata": {},
   "outputs": [
    {
     "data": {
      "text/plain": [
       "-1"
      ]
     },
     "execution_count": 3,
     "metadata": {},
     "output_type": "execute_result"
    }
   ],
   "source": [
    "''''n=int(input())\n",
    "for i in range(1,n+1):\n",
    "    a=int(input())\n",
    "    b=int(input())\n",
    "    c=int(input())\n",
    "    if c>=a and c>=b:\n",
    "        for j in range(c,0,-1):\n",
    "            if b==j%a:\n",
    "                print(j)\n",
    "            else:\n",
    "                print(-1)\n",
    "'''\n",
    "\n",
    "def cal(a, b, c):\n",
    "    for i in range(c,a-1,-1):\n",
    "        if i%a==b:\n",
    "            return i\n",
    "    return -1\n",
    "\n",
    "cal(1,2,4)"
   ]
  },
  {
   "cell_type": "code",
   "execution_count": null,
   "metadata": {},
   "outputs": [],
   "source": [
    "def AverageSum(li,st,en):\n",
    "    count=0\n",
    "    for i in range(st,en):\n",
    "        sum+=i\n",
    "        count+=1\n",
    "    print(sum/count)\n",
    "\n",
    "\n",
    "s=int(input())\n",
    "q=int(input())\n",
    "li=[]\n",
    "k=[]\n",
    "for i in range(s):\n",
    "    li.append(i)\n",
    "for j in range(q):\n",
    "    st=int(input())\n",
    "    en=int(input())\n",
    "    \n",
    "    AverageSum(li,st,en)\n",
    "\n",
    "    "
   ]
  },
  {
   "cell_type": "code",
   "execution_count": 43,
   "metadata": {},
   "outputs": [
    {
     "ename": "TypeError",
     "evalue": "ord() expected string of length 1, but list found",
     "output_type": "error",
     "traceback": [
      "\u001b[1;31m---------------------------------------------------------------------------\u001b[0m",
      "\u001b[1;31mTypeError\u001b[0m                                 Traceback (most recent call last)",
      "\u001b[1;32m<ipython-input-43-1d95b96f724b>\u001b[0m in \u001b[0;36m<module>\u001b[1;34m\u001b[0m\n\u001b[0;32m      7\u001b[0m     \u001b[0mprint\u001b[0m\u001b[1;33m(\u001b[0m\u001b[0mk\u001b[0m\u001b[1;33m)\u001b[0m\u001b[1;33m\u001b[0m\u001b[1;33m\u001b[0m\u001b[0m\n\u001b[0;32m      8\u001b[0m \u001b[1;33m\u001b[0m\u001b[0m\n\u001b[1;32m----> 9\u001b[1;33m \u001b[0mCharsum\u001b[0m\u001b[1;33m(\u001b[0m\u001b[1;34m\"abaa\"\u001b[0m\u001b[1;33m)\u001b[0m\u001b[1;33m\u001b[0m\u001b[1;33m\u001b[0m\u001b[0m\n\u001b[0m",
      "\u001b[1;32m<ipython-input-43-1d95b96f724b>\u001b[0m in \u001b[0;36mCharsum\u001b[1;34m(str)\u001b[0m\n\u001b[0;32m      3\u001b[0m     \u001b[0ml\u001b[0m\u001b[1;33m=\u001b[0m\u001b[0mlist\u001b[0m\u001b[1;33m(\u001b[0m\u001b[0mstr\u001b[0m\u001b[1;33m)\u001b[0m\u001b[1;33m\u001b[0m\u001b[1;33m\u001b[0m\u001b[0m\n\u001b[0;32m      4\u001b[0m     \u001b[1;32mfor\u001b[0m \u001b[0mi\u001b[0m \u001b[1;32min\u001b[0m \u001b[0mrange\u001b[0m\u001b[1;33m(\u001b[0m\u001b[0mlen\u001b[0m\u001b[1;33m(\u001b[0m\u001b[0ml\u001b[0m\u001b[1;33m)\u001b[0m\u001b[1;33m)\u001b[0m\u001b[1;33m:\u001b[0m\u001b[1;33m\u001b[0m\u001b[1;33m\u001b[0m\u001b[0m\n\u001b[1;32m----> 5\u001b[1;33m         \u001b[0mk\u001b[0m\u001b[1;33m=\u001b[0m\u001b[0mord\u001b[0m\u001b[1;33m(\u001b[0m\u001b[0ml\u001b[0m\u001b[1;33m[\u001b[0m\u001b[1;33m:\u001b[0m\u001b[1;33m:\u001b[0m\u001b[1;33m-\u001b[0m\u001b[1;36m1\u001b[0m\u001b[1;33m]\u001b[0m\u001b[1;33m)\u001b[0m\u001b[1;33m-\u001b[0m\u001b[1;36m97\u001b[0m\u001b[1;33m\u001b[0m\u001b[1;33m\u001b[0m\u001b[0m\n\u001b[0m\u001b[0;32m      6\u001b[0m         \u001b[0msum\u001b[0m\u001b[1;33m+=\u001b[0m\u001b[0mk\u001b[0m\u001b[1;33m\u001b[0m\u001b[1;33m\u001b[0m\u001b[0m\n\u001b[0;32m      7\u001b[0m     \u001b[0mprint\u001b[0m\u001b[1;33m(\u001b[0m\u001b[0mk\u001b[0m\u001b[1;33m)\u001b[0m\u001b[1;33m\u001b[0m\u001b[1;33m\u001b[0m\u001b[0m\n",
      "\u001b[1;31mTypeError\u001b[0m: ord() expected string of length 1, but list found"
     ]
    }
   ],
   "source": [
    "def Charsum(str):\n",
    "    sum=0\n",
    "    l=list(str)\n",
    "    for i in range(len(l)):\n",
    "        k=ord(l[::-1])-97\n",
    "        sum+=k\n",
    "    print(k)\n",
    "    \n",
    "Charsum(\"abaa\")"
   ]
  },
  {
   "cell_type": "code",
   "execution_count": null,
   "metadata": {},
   "outputs": [],
   "source": []
  }
 ],
 "metadata": {
  "kernelspec": {
   "display_name": "Python 3",
   "language": "python",
   "name": "python3"
  },
  "language_info": {
   "codemirror_mode": {
    "name": "ipython",
    "version": 3
   },
   "file_extension": ".py",
   "mimetype": "text/x-python",
   "name": "python",
   "nbconvert_exporter": "python",
   "pygments_lexer": "ipython3",
   "version": "3.7.3"
  }
 },
 "nbformat": 4,
 "nbformat_minor": 2
}
