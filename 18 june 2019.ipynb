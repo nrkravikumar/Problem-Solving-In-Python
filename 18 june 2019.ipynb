{
 "cells": [
  {
   "cell_type": "markdown",
   "metadata": {},
   "source": [
    "# Problem-3: Play with numbers"
   ]
  },
  {
   "cell_type": "code",
   "execution_count": 5,
   "metadata": {},
   "outputs": [
    {
     "name": "stdout",
     "output_type": "stream",
     "text": [
      "5 3\n",
      "1 2 3 4 5\n",
      "1 3\n",
      "2\n",
      "2 4\n",
      "3\n",
      "2 5\n",
      "3\n"
     ]
    }
   ],
   "source": [
    "'''\n",
    "def Playnum(li,st,en):\n",
    "    for i in range(st+1,en+1):\n",
    "        sum+=li[i]\n",
    "    return sum\n",
    "    \n",
    "s,q=input().split()\n",
    "li=[]\n",
    "for i in range(int(s)):\n",
    "    li.append(i)\n",
    "for j in range(int(q)):\n",
    "    st,en=int(input()).split()\n",
    "    print(Playnum(li,st,en))\n",
    "    \n",
    "'''    \n",
    "\n",
    "#Read no of array elements\n",
    "n=input().split()\n",
    "n[0],n[1]=int(n[0]),int(n[1])\n",
    "\n",
    "#Read array elements\n",
    "a=input().split()\n",
    "sum=[] #Initialize cumulative sum array\n",
    "\n",
    "#Cumulative Sum\n",
    "for i in range(0,n[0]):\n",
    "    if i==0:\n",
    "        #sum[i]+=a[i]\n",
    "        sum.append(int(a[i]))\n",
    "    else:\n",
    "        #sum[i] =sum[i-1]+a[i] #first element\n",
    "   # sum[1] = #first + second\n",
    "   # sum[2] = #sum[1] + third\n",
    "#i j -> sum[j] - sum[i-1]//j-i+1\n",
    "        sum.append(int(sum[i-1])+int(a[i]))\n",
    "#Read rach query and calculate the average\n",
    "for k in range(0,n[1]):\n",
    "    inq=input().split()\n",
    "    i=int(inq[0])\n",
    "    j=int(inq[1])\n",
    "    if i>1:\n",
    "        print((sum[j-1] - sum[i-2])//(j-i+1))\n",
    "    else:\n",
    "        print(sum[j-1]//(j-i+1))"
   ]
  },
  {
   "cell_type": "markdown",
   "metadata": {},
   "source": [
    "# Problem-2 Special Number:"
   ]
  },
  {
   "cell_type": "code",
   "execution_count": null,
   "metadata": {},
   "outputs": [],
   "source": [
    "#Fucntion to determine if a number is special number or not\n",
    "def isspecialNumber(n,p):\n",
    "    if(numberofPrimeFactors(n)) >=p:\n",
    "        #print(\"YES\")\n",
    "        return True\n",
    "    else:\n",
    "        #print(\"NO\")\n",
    "        return False\n",
    "    \n",
    "#Function to check if number is prime\n",
    "def isPrime(n):\n",
    "    flag=True\n",
    "    if n==2:\n",
    "        return True    \n",
    "    for i in range(2,n//2+1):\n",
    "        if n%i==0:\n",
    "            flag=False\n",
    "            return flag\n",
    "    if flag==True:\n",
    "        return True\n",
    "    return\n",
    "\n",
    "#Function to determine number of Prime Factors for a given number\n",
    "\n",
    "'''def factlist(n):\n",
    "    count=0\n",
    "    for i in range(2,n//2+1):\n",
    "        if n%i==0:\n",
    "            print(i,end=\" \")\n",
    "            if isPrime(i):\n",
    "                count+=1\n",
    "    return count\n",
    "'''\n",
    "\n",
    "def numberofPrimeFactors(n):\n",
    "    if isPrime(n):\n",
    "        return 1\n",
    "    count=0\n",
    "    for i in range(2,n//2+1):\n",
    "        if isPrime(i) and n%i==0:\n",
    "            count+=1\n",
    "    return count\n",
    "\n",
    "\n",
    "def Solution2():\n",
    "    p=int(input())\n",
    "    t=int(input())\n",
    "    for i in range(0,t):\n",
    "        n=int(input())\n",
    "        if isspecialNumber(n,p):\n",
    "            print(\"YES\")\n",
    "        else:\n",
    "            print(\"NO\")\n",
    "    \n",
    "    \n",
    "Solution2()  \n",
    "#isspecialNumber(9,2)\n",
    "#numberofPrimeFactors(30)\n",
    "#factlist(30)\n",
    "#isPrime(1)"
   ]
  },
  {
   "cell_type": "markdown",
   "metadata": {},
   "source": [
    "# Highest Remainder:\n",
    "\n",
    "Write a program to find a natural number that is smaller to the highest remainder when divided by that number\n",
    "If there is more than one such number,print the smallest number"
   ]
  },
  {
   "cell_type": "code",
   "execution_count": 6,
   "metadata": {},
   "outputs": [
    {
     "name": "stdout",
     "output_type": "stream",
     "text": [
      "3\n"
     ]
    }
   ],
   "source": [
    "def highestRemainder(n):\n",
    "    hr=0\n",
    "    v=n\n",
    "    for i in range(n-1,n//2,-1):\n",
    "        r=n%i\n",
    "        if r>hr:\n",
    "            hr=r\n",
    "            v=i\n",
    "    print(v)\n",
    "    return \n",
    "\n",
    "highestRemainder(5)\n",
    "        "
   ]
  },
  {
   "cell_type": "markdown",
   "metadata": {},
   "source": [
    "# Tuples:\n",
    "\n"
   ]
  },
  {
   "cell_type": "code",
   "execution_count": 9,
   "metadata": {},
   "outputs": [
    {
     "data": {
      "text/plain": [
       "(8, 6, 0)"
      ]
     },
     "execution_count": 9,
     "metadata": {},
     "output_type": "execute_result"
    }
   ],
   "source": [
    "t1=(1,2,8,6,0)\n",
    "\n",
    "t1[3] #Accessing the fourth element\n",
    "\n",
    "t1[len(t1)//2::]#Accessing all elements from middle to last"
   ]
  },
  {
   "cell_type": "code",
   "execution_count": 10,
   "metadata": {},
   "outputs": [
    {
     "data": {
      "text/plain": [
       "tuple"
      ]
     },
     "execution_count": 10,
     "metadata": {},
     "output_type": "execute_result"
    }
   ],
   "source": [
    "type(t1)"
   ]
  },
  {
   "cell_type": "markdown",
   "metadata": {},
   "source": [
    "# Dictionaries:\n"
   ]
  },
  {
   "cell_type": "markdown",
   "metadata": {},
   "source": [
    "It works on the concept of Set\n",
    "\n",
    "Unique Data(no repitition)\n",
    "\n",
    "Keys, Values --> pairs\n",
    "\n",
    "Key is the unique identifier for a value\n",
    "\n",
    "Value is data that can be accessed with a key"
   ]
  },
  {
   "cell_type": "code",
   "execution_count": 32,
   "metadata": {},
   "outputs": [
    {
     "data": {
      "text/plain": [
       "True"
      ]
     },
     "execution_count": 32,
     "metadata": {},
     "output_type": "execute_result"
    }
   ],
   "source": [
    "d1={\"k1\":\"value\",\"k2\":\"value2\"}\n",
    "\n",
    "d1[\"k2\"] #Accessing the values to a key\n",
    "\n",
    "d1.keys()#Accessing all the keys in a dictionaries\n",
    "d1.values() #Accessing all the values in a dictionaries\n",
    "d1.items() #Accessing the key and values with a tuple and list $$$$ returns list of tuples of keys and values\n",
    "d1[\"k3\"] = \"Value3\" #Adding a key and value\n",
    "d1[\"k3\"] = \"value4\" #Updating an element to a dictionary\n",
    "d1.pop(\"k3\") #Removing an element or item\n",
    "\"k1\" in d1"
   ]
  },
  {
   "cell_type": "markdown",
   "metadata": {},
   "source": [
    "# Contacts Application\n",
    "- Add Contact\n",
    "- Search for Contact\n",
    "- Modify Contact\n",
    "- Remove Contact\n",
    "- List All Contact\n",
    "    - name1 : phone1\n",
    "    - name2 : phone2\n"
   ]
  },
  {
   "cell_type": "code",
   "execution_count": 33,
   "metadata": {},
   "outputs": [
    {
     "name": "stdout",
     "output_type": "stream",
     "text": [
      "Contact Raju is Added today\n"
     ]
    }
   ],
   "source": [
    "contacts = {}\n",
    "\n",
    "def AddContact(name,phone):\n",
    "    #Verify that the contact doesnt already exist\n",
    "    if name not in contacts:\n",
    "        contacts[name] = phone\n",
    "        print(\"Contact %s is Added today\"%name)\n",
    "    else:\n",
    "        print(\"Contact %s already exists\" % name)\n",
    "\n",
    "AddContact(\"Raju\",\"9089787654\")"
   ]
  },
  {
   "cell_type": "code",
   "execution_count": 32,
   "metadata": {},
   "outputs": [
    {
     "name": "stdout",
     "output_type": "stream",
     "text": [
      "Contact Raju is not there in the list\n"
     ]
    }
   ],
   "source": [
    "def searchContacts(name):\n",
    "    if name in contacts:\n",
    "        #contacts[name]\n",
    "        print(name,\":\",contacts[name])\n",
    "    else:\n",
    "        print(\"Contact %s is not there in the list\"%name)\n",
    "\n",
    "searchContacts(\"Raju\")"
   ]
  },
  {
   "cell_type": "code",
   "execution_count": 63,
   "metadata": {},
   "outputs": [
    {
     "name": "stdout",
     "output_type": "stream",
     "text": [
      "768908765\n",
      "Contact number 768908765 is not there in the list\n"
     ]
    }
   ],
   "source": [
    "def ModifyContact(name):\n",
    "    uname=int(input())\n",
    "    if name in contacts:\n",
    "        contacts[name]=uname\n",
    "        print(\"Contact number is updated to %d\"%uname)\n",
    "    else:\n",
    "        print(\"Contact number %d is not there in the list\"%uname)\n",
    "        \n",
    "ModifyContact(\"kiran\")"
   ]
  },
  {
   "cell_type": "code",
   "execution_count": 65,
   "metadata": {},
   "outputs": [
    {
     "data": {
      "text/plain": [
       "{'Raju': 786789546, 'name2': 908976545, 'name3': 657849834}"
      ]
     },
     "execution_count": 65,
     "metadata": {},
     "output_type": "execute_result"
    }
   ],
   "source": [
    "contacts"
   ]
  },
  {
   "cell_type": "code",
   "execution_count": 53,
   "metadata": {},
   "outputs": [
    {
     "name": "stdout",
     "output_type": "stream",
     "text": [
      "2 Contacts Added Successfully\n"
     ]
    }
   ],
   "source": [
    "#New Contacts is given in a Dictionary\n",
    "#Merge new Contacts with Exiting in a Dictionary\n",
    "\n",
    "def importContacts(newContacts):\n",
    "    contacts.update(newContacts)\n",
    "    print(len(newContacts.keys()),\"Contacts Added Successfully\")\n",
    "    return\n",
    "newContacts={\"name2\":908976545,\"name3\":657849834}\n",
    "importContacts(newContacts)"
   ]
  },
  {
   "cell_type": "code",
   "execution_count": 59,
   "metadata": {},
   "outputs": [
    {
     "data": {
      "text/plain": [
       "dict_items([('Raju', 678453456), ('name2', 908976545), ('name3', 657849834)])"
      ]
     },
     "execution_count": 59,
     "metadata": {},
     "output_type": "execute_result"
    }
   ],
   "source": [
    "contacts.items()"
   ]
  },
  {
   "cell_type": "code",
   "execution_count": 7,
   "metadata": {},
   "outputs": [
    {
     "name": "stdout",
     "output_type": "stream",
     "text": [
      "Raju is removed in contact list\n"
     ]
    }
   ],
   "source": [
    "def RemoveContact(name):\n",
    "    if name in contacts:\n",
    "        contacts.pop(name)\n",
    "        print(\"%s is removed in contact list\"%name)\n",
    "RemoveContact(\"Raju\")"
   ]
  },
  {
   "cell_type": "code",
   "execution_count": 57,
   "metadata": {},
   "outputs": [
    {
     "name": "stdout",
     "output_type": "stream",
     "text": [
      "Raju : 678453456\n",
      "name2 : 908976545\n",
      "name3 : 657849834\n"
     ]
    }
   ],
   "source": [
    "def ListAllContact():\n",
    "    for i,j in contacts.items():\n",
    "        print(i,\":\",j)\n",
    "ListAllContact()"
   ]
  },
  {
   "cell_type": "code",
   "execution_count": 58,
   "metadata": {},
   "outputs": [
    {
     "data": {
      "text/plain": [
       "{'Raju': 678453456, 'name2': 908976545, 'name3': 657849834}"
      ]
     },
     "execution_count": 58,
     "metadata": {},
     "output_type": "execute_result"
    }
   ],
   "source": [
    "contacts"
   ]
  },
  {
   "cell_type": "markdown",
   "metadata": {},
   "source": [
    "# Packages and Modules:\n",
    "\n",
    "**Packages** --> Collection of Modules(each module is a Python File .py) and subpackages\n",
    "**Subpackages**\n",
    "\n",
    "**Modules** --> A Single python file containing functions \n",
    "\n",
    "Package --> Subpackages --> Modules --> Functions"
   ]
  },
  {
   "cell_type": "code",
   "execution_count": 67,
   "metadata": {},
   "outputs": [
    {
     "data": {
      "text/plain": [
       "123"
      ]
     },
     "execution_count": 67,
     "metadata": {},
     "output_type": "execute_result"
    }
   ],
   "source": [
    "import math\n",
    "\n",
    "math.floor(123.456)"
   ]
  },
  {
   "cell_type": "code",
   "execution_count": 72,
   "metadata": {},
   "outputs": [
    {
     "data": {
      "text/plain": [
       "8"
      ]
     },
     "execution_count": 72,
     "metadata": {},
     "output_type": "execute_result"
    }
   ],
   "source": [
    "math.floor(pow(2,3))"
   ]
  },
  {
   "cell_type": "code",
   "execution_count": 73,
   "metadata": {},
   "outputs": [
    {
     "data": {
      "text/plain": [
       "3.141592653589793"
      ]
     },
     "execution_count": 73,
     "metadata": {},
     "output_type": "execute_result"
    }
   ],
   "source": [
    "math.pi"
   ]
  },
  {
   "cell_type": "code",
   "execution_count": 74,
   "metadata": {},
   "outputs": [
    {
     "data": {
      "text/plain": [
       "2.718281828459045"
      ]
     },
     "execution_count": 74,
     "metadata": {},
     "output_type": "execute_result"
    }
   ],
   "source": [
    "math.e"
   ]
  },
  {
   "cell_type": "code",
   "execution_count": 7,
   "metadata": {},
   "outputs": [
    {
     "data": {
      "text/plain": [
       "3.141592653589793"
      ]
     },
     "execution_count": 7,
     "metadata": {},
     "output_type": "execute_result"
    }
   ],
   "source": [
    "from math import floor,pi\n",
    "\n",
    "floor(234.456456)\n",
    "\n",
    "pi"
   ]
  },
  {
   "cell_type": "code",
   "execution_count": 8,
   "metadata": {},
   "outputs": [
    {
     "data": {
      "text/plain": [
       "2345"
      ]
     },
     "execution_count": 8,
     "metadata": {},
     "output_type": "execute_result"
    }
   ],
   "source": [
    "from math import floor as f\n",
    "f(2345.03485983475)"
   ]
  },
  {
   "cell_type": "code",
   "execution_count": 22,
   "metadata": {},
   "outputs": [
    {
     "name": "stdout",
     "output_type": "stream",
     "text": [
      "76 70 11 52 47 45 48 80 98 73 "
     ]
    }
   ],
   "source": [
    "# Define a function to generate N Random Numbers in a given range\n",
    "\n",
    "import random\n",
    "\n",
    "def generateNRandomNumbers(n,lb,up):\n",
    "    for i in range(0,n):\n",
    "        print(random.randint(lb,up),end=\" \")\n",
    "\n",
    "generateNRandomNumbers(10,0,100)\n",
    "    "
   ]
  },
  {
   "cell_type": "code",
   "execution_count": 15,
   "metadata": {},
   "outputs": [
    {
     "data": {
      "text/plain": [
       "True"
      ]
     },
     "execution_count": 15,
     "metadata": {},
     "output_type": "execute_result"
    }
   ],
   "source": [
    "from Packages import numerical\n",
    "numerical.isPrime(103)\n",
    "#numerical.numberofPrimeFactors(96)"
   ]
  },
  {
   "cell_type": "code",
   "execution_count": 14,
   "metadata": {},
   "outputs": [
    {
     "data": {
      "text/plain": [
       "False"
      ]
     },
     "execution_count": 14,
     "metadata": {},
     "output_type": "execute_result"
    }
   ],
   "source": [
    "from Packages.numerical import isPrime\n",
    "isPrime(105)"
   ]
  },
  {
   "cell_type": "code",
   "execution_count": 17,
   "metadata": {},
   "outputs": [
    {
     "data": {
      "text/plain": [
       "True"
      ]
     },
     "execution_count": 17,
     "metadata": {},
     "output_type": "execute_result"
    }
   ],
   "source": [
    "from Packages import numerical as n\n",
    "n.isPrime(109)"
   ]
  },
  {
   "cell_type": "code",
   "execution_count": null,
   "metadata": {},
   "outputs": [],
   "source": []
  }
 ],
 "metadata": {
  "kernelspec": {
   "display_name": "Python 3",
   "language": "python",
   "name": "python3"
  },
  "language_info": {
   "codemirror_mode": {
    "name": "ipython",
    "version": 3
   },
   "file_extension": ".py",
   "mimetype": "text/x-python",
   "name": "python",
   "nbconvert_exporter": "python",
   "pygments_lexer": "ipython3",
   "version": "3.7.3"
  }
 },
 "nbformat": 4,
 "nbformat_minor": 2
}
