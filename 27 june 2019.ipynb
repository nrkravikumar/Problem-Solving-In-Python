{
 "cells": [
  {
   "cell_type": "code",
   "execution_count": 21,
   "metadata": {},
   "outputs": [
    {
     "name": "stdout",
     "output_type": "stream",
     "text": [
      "(1, 2),(1, 3),(1, 4),(2, 3),(2, 4),(3, 4),"
     ]
    }
   ],
   "source": [
    "# Function to print all combinations of a pairs of a unique list\n",
    "#[1,2,3] -> (1,2),(1,3),(2,3) -> 3C2 -> 3!/(3-2)!*2! -> 6/2 -> 3\n",
    "\n",
    "#[1,2,3,4] -> (1,2),(1,3),(1,4),(2,3),(2,4),(3,4) -> 6\n",
    "\n",
    "\n",
    "def combinations(li):\n",
    "    for i in range(len(li)-1):\n",
    "        for j in range(i+1,len(li)):\n",
    "            print((li[i],li[j]),end=\",\")\n",
    "    return\n",
    "li = [1,2,3,4]\n",
    "combinations(li)"
   ]
  },
  {
   "cell_type": "code",
   "execution_count": 26,
   "metadata": {},
   "outputs": [
    {
     "name": "stdout",
     "output_type": "stream",
     "text": [
      "(1, 2, 3),(1, 2, 4),(1, 2, 5),(1, 3, 4),(1, 3, 5),(1, 4, 5),(2, 3, 4),(2, 3, 5),(2, 4, 5),(3, 4, 5),"
     ]
    }
   ],
   "source": [
    "def combinations3(li, p):\n",
    "    for i in range(len(li)-2):\n",
    "        for j in range(i+1,len(li)-1):\n",
    "            for k in range(j+1,len(li)):\n",
    "                print((li[i],li[j],li[k]),end=\",\")\n",
    "    return\n",
    "li = [1,2,3,4,5]\n",
    "p = 3\n",
    "combinations3(li, p)"
   ]
  },
  {
   "cell_type": "code",
   "execution_count": 11,
   "metadata": {},
   "outputs": [
    {
     "data": {
      "text/plain": [
       "[[1, 9], [1, 9, 8]]"
      ]
     },
     "execution_count": 11,
     "metadata": {},
     "output_type": "execute_result"
    }
   ],
   "source": [
    "# [1,2,3] -> [1,2,3]\n",
    "\n",
    "def medium(li,k):\n",
    "    while(True):\n",
    "        li3 = differencePairs(li)\n",
    "        if li3[0] == li3[1]:\n",
    "            brek\n",
    "    if len(li3[0]) > \n",
    "\n",
    "\n",
    "def differencePairs(li):\n",
    "    cli = li[:]\n",
    "    newelements = []\n",
    "    for i in range(len(li)-1):\n",
    "        for j in range(i+1,len(li)):\n",
    "            d = abs(li[i]-li[j])\n",
    "            if d not in li and d not in newelements:\n",
    "                newelements.append(d)\n",
    "    li.extend(newelements)\n",
    "    return [cli,li]\n",
    "\n",
    "li = [1,9]\n",
    "differencePairs(li)"
   ]
  },
  {
   "cell_type": "code",
   "execution_count": null,
   "metadata": {},
   "outputs": [],
   "source": [
    "\n",
    "[4,8]\n",
    "[20,40,60]\n",
    "[4,8,12,16]\n",
    "[3,6,9,12]\n",
    "\n",
    "#Convert the list into an Arithmetic Progression\n",
    "\n",
    "[3,8,5]\n",
    "[3,8,15,5,2,1,4,6,7,9,10,11,12,13,14]\n",
    "\n"
   ]
  },
  {
   "cell_type": "code",
   "execution_count": 4,
   "metadata": {},
   "outputs": [
    {
     "data": {
      "text/plain": [
       "[2, 3, 1]"
      ]
     },
     "execution_count": 4,
     "metadata": {},
     "output_type": "execute_result"
    }
   ],
   "source": [
    "\n",
    "def medium(li,k):\n",
    "    while(True):\n",
    "        li3 = differencePairs(li)\n",
    "        if li3[0] == li3[1]:\n",
    "            break\n",
    "    if len(li3[0]) >= k:\n",
    "        return sorted()\n",
    "\n",
    "def differencePairs(li):\n",
    "    c = li.copy()\n",
    "    newelements = []\n",
    "    for i in range(len(li)-1):\n",
    "        for j in range(i+1,len(li)):\n",
    "            d = abs(li[i]-li[j])\n",
    "            if d not in li and d not in newelements:\n",
    "                newelements.append(d)\n",
    "    li.extend(newelements)\n",
    "    return [c,li]\n",
    "    \n",
    "    \n",
    "li = [2,3]\n",
    "differencePairs(li)\n",
    "                \n",
    "                \n",
    "            "
   ]
  },
  {
   "cell_type": "markdown",
   "metadata": {},
   "source": [
    "# Set - Data Structure in Python\n",
    "\n",
    "Represented by '{}'\n",
    "\n",
    "a = {1,2,3,4,5,6} # It contians only unique elements\n",
    "\n"
   ]
  },
  {
   "cell_type": "code",
   "execution_count": 8,
   "metadata": {},
   "outputs": [
    {
     "name": "stdout",
     "output_type": "stream",
     "text": [
      "{1, 2, 3, 4, 5, 6}\n"
     ]
    }
   ],
   "source": [
    "a = {1,2,3,4,5,6,6,5,4}\n",
    "print(a)"
   ]
  },
  {
   "cell_type": "code",
   "execution_count": 9,
   "metadata": {},
   "outputs": [
    {
     "data": {
      "text/plain": [
       "{1, 2, 3, 4, 5, 6, 7}"
      ]
     },
     "execution_count": 9,
     "metadata": {},
     "output_type": "execute_result"
    }
   ],
   "source": [
    "a = {1,2,3,4,5,6,6,5,4}\n",
    "a.add(7) #Add is a function to add element to a set\n",
    "a"
   ]
  },
  {
   "cell_type": "code",
   "execution_count": 16,
   "metadata": {},
   "outputs": [
    {
     "name": "stdout",
     "output_type": "stream",
     "text": [
      "1 2 3 4 5 6 7 "
     ]
    }
   ],
   "source": [
    "a = {6,6,5,4,1,2,3,4,5}\n",
    "a.add(7)\n",
    "for i in a:\n",
    "    print(i,end=\" \") # Accessing elements"
   ]
  },
  {
   "cell_type": "code",
   "execution_count": 29,
   "metadata": {},
   "outputs": [
    {
     "name": "stdout",
     "output_type": "stream",
     "text": [
      "{1, 66, 2, 3, 5, 6, 4, 7, 8, 9, 11, 12, 45, 78, 13}\n",
      "{1, 2, 3, 7, 8, 9, 78}\n",
      "[11, 12, 13, 1]\n"
     ]
    }
   ],
   "source": [
    "a = {6,66,5,45,1,2,3,4,5}\n",
    "b = {7,8,9,1,2,3,78}\n",
    "li = [11,12,13,1]\n",
    "a.update(b,li) # Adding Multiple elements to a set by using the set,list etc., \n",
    "print(a)\n",
    "print(b)\n",
    "print(li)"
   ]
  },
  {
   "cell_type": "code",
   "execution_count": 43,
   "metadata": {},
   "outputs": [
    {
     "data": {
      "text/plain": [
       "{1, 2, 3, 4, 5, 6, 7, 8, 9, 11, 12, 45, 66, 78}"
      ]
     },
     "execution_count": 43,
     "metadata": {},
     "output_type": "execute_result"
    }
   ],
   "source": [
    "a.discard(13) # to remove the element by passing the value\n",
    "\n",
    "a"
   ]
  },
  {
   "cell_type": "code",
   "execution_count": 48,
   "metadata": {},
   "outputs": [
    {
     "data": {
      "text/plain": [
       "{1, 2, 3, 4, 5, 6, 7, 8, 9, 10}"
      ]
     },
     "execution_count": 48,
     "metadata": {},
     "output_type": "execute_result"
    }
   ],
   "source": [
    "a = {10,1,2,3,4,5,6}\n",
    "b = {7,8,9,1,2,3}\n",
    "\n",
    "a.union(b)\n",
    "a\n",
    "# a | b\n",
    "# A U B = B U A\n",
    "\n",
    "b.union(a)\n"
   ]
  },
  {
   "cell_type": "code",
   "execution_count": 49,
   "metadata": {},
   "outputs": [
    {
     "data": {
      "text/plain": [
       "{1, 2, 3}"
      ]
     },
     "execution_count": 49,
     "metadata": {},
     "output_type": "execute_result"
    }
   ],
   "source": [
    "a = {10,1,2,3,4,5,6}\n",
    "b = {7,8,9,1,2,3}\n",
    "\n",
    "a.intersection(b)\n",
    "#a & b"
   ]
  },
  {
   "cell_type": "code",
   "execution_count": 52,
   "metadata": {},
   "outputs": [
    {
     "data": {
      "text/plain": [
       "False"
      ]
     },
     "execution_count": 52,
     "metadata": {},
     "output_type": "execute_result"
    }
   ],
   "source": [
    "a = {10,1,2,3,4,5,6}\n",
    "b = {7,8,9,1,2,3}\n",
    "c = {111,123}\n",
    "a.isdisjoint(c) # True because there are no common set values\n",
    "a.isdisjoint(b) # False because there is a common value in a set"
   ]
  },
  {
   "cell_type": "code",
   "execution_count": 56,
   "metadata": {},
   "outputs": [
    {
     "data": {
      "text/plain": [
       "{7, 8, 9}"
      ]
     },
     "execution_count": 56,
     "metadata": {},
     "output_type": "execute_result"
    }
   ],
   "source": [
    "a = {10,1,2,3,4,5,6}\n",
    "b = {7,8,9,1,2,3}\n",
    "c = {111,123}\n",
    "a-b # All elements of a which are not in b\n",
    "b-a"
   ]
  },
  {
   "cell_type": "code",
   "execution_count": 58,
   "metadata": {},
   "outputs": [
    {
     "data": {
      "text/plain": [
       "[1, 2, 3, 7, 8, 9]"
      ]
     },
     "execution_count": 58,
     "metadata": {},
     "output_type": "execute_result"
    }
   ],
   "source": [
    "sorted(b)"
   ]
  },
  {
   "cell_type": "code",
   "execution_count": 59,
   "metadata": {},
   "outputs": [
    {
     "data": {
      "text/plain": [
       "{4, 5, 6, 7, 8, 9, 10}"
      ]
     },
     "execution_count": 59,
     "metadata": {},
     "output_type": "execute_result"
    }
   ],
   "source": [
    "a ^ b # Elements either in a or b"
   ]
  },
  {
   "cell_type": "code",
   "execution_count": null,
   "metadata": {},
   "outputs": [],
   "source": []
  },
  {
   "cell_type": "code",
   "execution_count": null,
   "metadata": {},
   "outputs": [],
   "source": [
    "Procedural : C\n",
    "\n",
    "Object Oriented : Java, Python\n",
    "    \n",
    "Scripting : PHP, Python, Javascript, Shell, Perl etc.,\n",
    "    \n",
    "Fucntional : Python, Haskell, Scala\n",
    "    \n",
    "Logic : Prolog, Lisp"
   ]
  },
  {
   "cell_type": "markdown",
   "metadata": {},
   "source": [
    "# List Comprehensions"
   ]
  },
  {
   "cell_type": "code",
   "execution_count": 79,
   "metadata": {},
   "outputs": [
    {
     "name": "stdout",
     "output_type": "stream",
     "text": [
      "10\n"
     ]
    },
    {
     "data": {
      "text/plain": [
       "[1, 2, 3, 4, 5, 6, 7, 8, 9, 10]"
      ]
     },
     "execution_count": 79,
     "metadata": {},
     "output_type": "execute_result"
    }
   ],
   "source": [
    "# List of N natural numbers\n",
    "\n",
    "# n = 10 \n",
    "# l=[]\n",
    "# for i in range(1,n+1):\n",
    "#     l.append(i)\n",
    "# print(l)\n",
    "\n",
    "l = [i for i in range(1,int(input())+1)]\n",
    "l"
   ]
  },
  {
   "cell_type": "code",
   "execution_count": 83,
   "metadata": {},
   "outputs": [
    {
     "name": "stdout",
     "output_type": "stream",
     "text": [
      "11\n"
     ]
    },
    {
     "data": {
      "text/plain": [
       "[1, 8, 27, 64, 125, 216, 343, 512, 729, 1000, 1331]"
      ]
     },
     "execution_count": 83,
     "metadata": {},
     "output_type": "execute_result"
    }
   ],
   "source": [
    "\n",
    "l = [i**3 for i in range(1,int(input())+1)]\n",
    "l"
   ]
  },
  {
   "cell_type": "code",
   "execution_count": 90,
   "metadata": {},
   "outputs": [
    {
     "name": "stdout",
     "output_type": "stream",
     "text": [
      "11\n"
     ]
    },
    {
     "data": {
      "text/plain": [
       "[1, 2, 6, 24, 120, 720, 5040, 40320, 362880, 3628800, 39916800]"
      ]
     },
     "execution_count": 90,
     "metadata": {},
     "output_type": "execute_result"
    }
   ],
   "source": [
    "# Function to calculate the factorial\n",
    "\n",
    "def factorial(n):\n",
    "    if n == 0 or n ==1:\n",
    "        return 1\n",
    "    return n*factorial(n-1)\n",
    "\n",
    "n=int(input())\n",
    "factorial(n)\n",
    "# Apply list comprehension to calculate the factorial of n natural number\n",
    "l = [factorial(i) for i in range(1,n+1)] # List Comprehension for a n natural factorial list\n",
    "l"
   ]
  },
  {
   "cell_type": "code",
   "execution_count": 4,
   "metadata": {},
   "outputs": [
    {
     "name": "stdout",
     "output_type": "stream",
     "text": [
      "10\n"
     ]
    },
    {
     "data": {
      "text/plain": [
       "[1, 3, 6, 10, 15, 21, 28, 36, 45, 55]"
      ]
     },
     "execution_count": 4,
     "metadata": {},
     "output_type": "execute_result"
    }
   ],
   "source": [
    "# Calculate or store cumulative sum of numbers till n in a list\n",
    "\n",
    "# n = 3, [1, 3, 6]\n",
    "# n = 5, [1, 3, 6, 10, 15]\n",
    "\n",
    "l = [sum(range(i+1)) for i in range(1,int(input())+1)]\n",
    "l"
   ]
  },
  {
   "cell_type": "code",
   "execution_count": 12,
   "metadata": {},
   "outputs": [
    {
     "data": {
      "text/plain": [
       "[1972, 1976, 1980, 1984, 1988, 1992, 1996, 2000, 2004, 2008, 2012, 2016]"
      ]
     },
     "execution_count": 12,
     "metadata": {},
     "output_type": "execute_result"
    }
   ],
   "source": [
    "# List Comprehension to store\n",
    "# only leap years in a given time period\n",
    "\n",
    "st = 1970\n",
    "et = 2019\n",
    "leapYears = [i for i in range(st,et+1) if i%400 ==0 or i%100!=0 and i%4 == 0]\n",
    "leapYears"
   ]
  },
  {
   "cell_type": "code",
   "execution_count": 43,
   "metadata": {},
   "outputs": [
    {
     "data": {
      "text/plain": [
       "[1, 20, 3, 2, 4]"
      ]
     },
     "execution_count": 43,
     "metadata": {},
     "output_type": "execute_result"
    }
   ],
   "source": [
    "\n",
    "li = [1,20,3,2,1,4,4,20,20]\n",
    "s=[]\n",
    "# unique = [li[i] for i in range(len(li)-1) if li[i] not in l]\n",
    "# unique = [i for i in sorted(li) if li.count(i)==1]\n",
    "unique = [i for i in li if i not in s and (s.append(i) or True)]\n",
    "unique"
   ]
  },
  {
   "cell_type": "markdown",
   "metadata": {},
   "source": [
    "# Iterators"
   ]
  },
  {
   "cell_type": "markdown",
   "metadata": {},
   "source": [
    "Iterable - Strings, Lists, Tuples, Sets, Dictionaries\n",
    "\n",
    "Convert Iterable to Iterator -> iter()\n",
    "\n",
    "For Loop: \n",
    "\n",
    "\n",
    "\n",
    "Iterator: Stop the iteration in execution state\n",
    "\n"
   ]
  },
  {
   "cell_type": "code",
   "execution_count": 69,
   "metadata": {},
   "outputs": [
    {
     "name": "stdout",
     "output_type": "stream",
     "text": [
      "1:\n",
      "\n",
      "P\n",
      "2:\n",
      "\n",
      "y\n"
     ]
    }
   ],
   "source": [
    "it = iter('Python')\n",
    "\n",
    "# next(it)\n",
    "# next(it)\n",
    "# for i in it:\n",
    "#     print(next(i))\n",
    "\n",
    "\n",
    "print(\"1:\\n\")\n",
    "print(next(it))\n",
    "print(\"2:\\n\")\n",
    "print(next(it))"
   ]
  },
  {
   "cell_type": "markdown",
   "metadata": {},
   "source": [
    "# Generator"
   ]
  },
  {
   "cell_type": "code",
   "execution_count": 84,
   "metadata": {},
   "outputs": [
    {
     "data": {
      "text/plain": [
       "512"
      ]
     },
     "execution_count": 84,
     "metadata": {},
     "output_type": "execute_result"
    }
   ],
   "source": [
    "def generator():\n",
    "    n = 2\n",
    "    yield n\n",
    "    \n",
    "    n = n ** 3\n",
    "    yield n\n",
    "    \n",
    "    n = n ** 3\n",
    "    yield n\n",
    "\n",
    "a = generator()\n",
    "next(a)\n",
    "next(a)\n",
    "next(a)"
   ]
  },
  {
   "cell_type": "code",
   "execution_count": 88,
   "metadata": {},
   "outputs": [
    {
     "data": {
      "text/plain": [
       "2417851639229258349412352"
      ]
     },
     "execution_count": 88,
     "metadata": {},
     "output_type": "execute_result"
    }
   ],
   "source": [
    "def generator():\n",
    "    n = 2\n",
    "    for i in range(1,5):\n",
    "        n **=3\n",
    "        yield n\n",
    "    \n",
    "\n",
    "a = generator()\n",
    "next(a)\n",
    "next(a)\n",
    "next(a)\n",
    "next(a)\n",
    "# next(a) It stops in the fifth because the iterator is to be stopped in the 5th case of a generator"
   ]
  },
  {
   "cell_type": "code",
   "execution_count": 91,
   "metadata": {},
   "outputs": [
    {
     "data": {
      "text/plain": [
       "35184372088832"
      ]
     },
     "execution_count": 91,
     "metadata": {},
     "output_type": "execute_result"
    }
   ],
   "source": [
    "def generator():\n",
    "    n = 2\n",
    "    while True:\n",
    "        n **=3\n",
    "        yield n\n",
    "    \n",
    "\n",
    "a = generator()\n",
    "next(a)\n",
    "b = next(a) ** 2\n",
    "b *= next(a)\n",
    "b"
   ]
  },
  {
   "cell_type": "code",
   "execution_count": 93,
   "metadata": {},
   "outputs": [
    {
     "name": "stdout",
     "output_type": "stream",
     "text": [
      "8\n",
      "512\n",
      "134217728\n",
      "2417851639229258349412352\n",
      "14134776518227074636666380005943348126619871175004951664972849610340958208\n"
     ]
    },
    {
     "data": {
      "text/plain": [
       "2824013958708217496949108842204627863351353911851577524683401930862693830361198499905873920995229996970897865498283996578123296865878390947626553088486946106430796091482716120572632072492703527723757359478834530365734912"
      ]
     },
     "execution_count": 93,
     "metadata": {},
     "output_type": "execute_result"
    }
   ],
   "source": [
    "def generator():\n",
    "    n = 2\n",
    "    while True:\n",
    "        n **=3\n",
    "        yield n\n",
    "    \n",
    "\n",
    "a = generator()\n",
    "for i in range(5):\n",
    "    print(next(a))\n",
    "next(a)"
   ]
  },
  {
   "cell_type": "code",
   "execution_count": null,
   "metadata": {},
   "outputs": [],
   "source": []
  }
 ],
 "metadata": {
  "kernelspec": {
   "display_name": "Python 3",
   "language": "python",
   "name": "python3"
  },
  "language_info": {
   "codemirror_mode": {
    "name": "ipython",
    "version": 3
   },
   "file_extension": ".py",
   "mimetype": "text/x-python",
   "name": "python",
   "nbconvert_exporter": "python",
   "pygments_lexer": "ipython3",
   "version": "3.7.3"
  }
 },
 "nbformat": 4,
 "nbformat_minor": 2
}
