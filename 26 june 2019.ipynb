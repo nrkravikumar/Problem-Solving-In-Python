{
 "cells": [
  {
   "cell_type": "code",
   "execution_count": 120,
   "metadata": {},
   "outputs": [
    {
     "name": "stdout",
     "output_type": "stream",
     "text": [
      "[0, 1, 4, 6, 7, 9]\n"
     ]
    },
    {
     "data": {
      "text/plain": [
       "6"
      ]
     },
     "execution_count": 120,
     "metadata": {},
     "output_type": "execute_result"
    }
   ],
   "source": [
    "# Function to find the second largest number in a list\n",
    "\n",
    "def secondLargest(li):\n",
    "    # Convert the list into a unique list\n",
    "    # Complexity for single loop -> O(n), two loops -> O(n2)\n",
    "    unique = []\n",
    "    for n in li:\n",
    "        if n not in unique:\n",
    "            unique.append(n)\n",
    "    #print(unique)\n",
    "    unique = sorted(unique, reverse=True)\n",
    "    #print(unique)\n",
    "    return unique[1]\n",
    "\n",
    "def fifthLeast(li):\n",
    "    unique = []\n",
    "    for n in li:\n",
    "        if n not in unique:\n",
    "            unique.append(n)\n",
    "    #print(unique)\n",
    "    unique = sorted(unique)\n",
    "    if len(unique) > 4:\n",
    "        #print(unique)\n",
    "        return unique[4]\n",
    "    else:\n",
    "        return -1\n",
    "\n",
    "def kLargest(li,k):\n",
    "    unique = []\n",
    "    for n in li:\n",
    "        if n not in unique:\n",
    "            unique.append(n)\n",
    "    #print(unique)\n",
    "    unique = sorted(unique, reverse=True)\n",
    "    if k <= len(unique):\n",
    "        #print(unique)\n",
    "        return unique[k-1]\n",
    "    else:\n",
    "        return -1\n",
    "\n",
    "    \n",
    "def kSmallest(li,k):\n",
    "    if len(li) <= 0:\n",
    "        return 0\n",
    "    else:\n",
    "        unique = []\n",
    "        for n in li:\n",
    "            if n not in unique:\n",
    "                unique.append(n)\n",
    "        #print(unique)\n",
    "        unique = sorted(unique)\n",
    "        if k < len(unique):\n",
    "            print(unique)\n",
    "            return unique[k-1]\n",
    "        else:\n",
    "            return -1\n",
    "#secondLargest([1,4,6,1,7,9,0,6,4])\n",
    "#fifthLeast([1,4,6,1,7,9,0,6,4])\n",
    "#kLargest([1,4,6,1,7,9,0,6,4],1)\n",
    "#kSmallest([],0)\n",
    "kSmallest([1,4,6,1,7,9,0,6,4],4)"
   ]
  },
  {
   "cell_type": "code",
   "execution_count": 70,
   "metadata": {},
   "outputs": [
    {
     "name": "stdout",
     "output_type": "stream",
     "text": [
      "{1: 2, 2: 2, 3: 2, 9: 1, 8: 1, 7: 1, 4: 1}\n"
     ]
    },
    {
     "data": {
      "text/plain": [
       "1"
      ]
     },
     "execution_count": 70,
     "metadata": {},
     "output_type": "execute_result"
    }
   ],
   "source": [
    "# Function to identify the element with the highest frequency\n",
    "# If many elements have the highest frequency, return the smallest element\n",
    "# highestFrequencyElement([1,2,3,9,8,7,3,4,2,1]) -> 1\n",
    "def highestFrequencyElement(li):\n",
    "    # Extracting unique elements with frequencies\n",
    "    unique = {}\n",
    "    for n in li:\n",
    "        if n in unique:\n",
    "            unique[n] += 1\n",
    "        else:\n",
    "            unique[n] = 1\n",
    "    print(unique)        \n",
    "    # Getting all Frequencies into a list\n",
    "    freq = unique.values()\n",
    "    maxfreq = max(freq)\n",
    "    maxfreqE = []\n",
    "    # print(maxfreq)\n",
    "    # Identify the smallest number with maximum frequency\n",
    "    for item in unique.items():\n",
    "        if item[1] == maxfreq:\n",
    "            maxfreqE.append(item[0])\n",
    "     # Select the minimum from the keys with maximum frequency       \n",
    "    return min(maxfreqE) # minfreqE[k-1]\n",
    "    #maxfreqE = max(sorted(maxfreqE,reverse=True))\n",
    "    #return maxfreqE[3-1]\n",
    "highestFrequencyElement([1,2,3,9,8,7,3,4,2,1])\n",
    "    "
   ]
  },
  {
   "cell_type": "code",
   "execution_count": 77,
   "metadata": {},
   "outputs": [
    {
     "name": "stdout",
     "output_type": "stream",
     "text": [
      "{1: 2, 2: 2, 3: 2, 9: 1, 8: 1, 7: 1, 4: 1}\n"
     ]
    },
    {
     "data": {
      "text/plain": [
       "1"
      ]
     },
     "execution_count": 77,
     "metadata": {},
     "output_type": "execute_result"
    }
   ],
   "source": [
    "# Function to identify the element with the highest frequency\n",
    "# If many elements have the highest frequency, return the smallest element\n",
    "# highestFrequencyElement([1,2,3,9,8,7,3,4,2,1]) -> 1\n",
    "def highestFrequencyElement(li):\n",
    "    # Extracting unique elements with frequencies\n",
    "    unique = {}\n",
    "    for n in li:\n",
    "        if n in unique:\n",
    "            unique[n] += 1\n",
    "        else:\n",
    "            unique[n] = 1\n",
    "    print(unique)\n",
    "    maxfreq = max(unique.values())\n",
    "    # Extract all keys with maxfreq in a list\n",
    "    maxfreqkeys = []\n",
    "    for item in unique.items():\n",
    "        # item -> (key, value)\n",
    "        # item[1] -> value\n",
    "        if item[1] == maxfreq:\n",
    "            maxfreqkeys.append(item[0])\n",
    "    return min(maxfreqkeys)\n",
    "    \n",
    "highestFrequencyElement([1,2,3,9,8,7,3,4,2,1])   "
   ]
  },
  {
   "cell_type": "code",
   "execution_count": 92,
   "metadata": {},
   "outputs": [
    {
     "name": "stdout",
     "output_type": "stream",
     "text": [
      "{1: 2, 2: 2, 3: 1, 4: 2, 9: 1}\n",
      "[1, 1, 2, 2, 2]\n",
      "[1, 2]\n",
      "1\n",
      "[3, 9]\n"
     ]
    },
    {
     "data": {
      "text/plain": [
       "3"
      ]
     },
     "execution_count": 92,
     "metadata": {},
     "output_type": "execute_result"
    }
   ],
   "source": [
    "# Function to identify second highest frequency\n",
    "# If there are many such elements, return the second largest frequency \n",
    "# [1,2,3,2,1,4,4,9] -> 3\n",
    "\n",
    "\n",
    "def secondLargestFrequency(li):\n",
    "    unique = {}\n",
    "    for n in li:\n",
    "        if n not in unique:\n",
    "            unique[n] = 1\n",
    "        else:\n",
    "            unique[n] += 1\n",
    "    print(unique)\n",
    "    maxf = unique.values()\n",
    "    maxf=sorted(maxf)\n",
    "    print(maxf)\n",
    "    maxf=list(set(maxf))\n",
    "    print(maxf)\n",
    "    maxfreq=maxf[len(maxf)-2]\n",
    "    print(maxfreq)\n",
    "    maxfreqkeys = []\n",
    "    for item in unique.items():\n",
    "        if item[1] == maxfreq:\n",
    "            maxfreqkeys.append(item[0])\n",
    "    print(maxfreqkeys)\n",
    "    return min(maxfreqkeys)\n",
    "\n",
    "secondLargestFrequency([1,2,3,2,1,4,4,9])"
   ]
  },
  {
   "cell_type": "code",
   "execution_count": 130,
   "metadata": {},
   "outputs": [
    {
     "name": "stdout",
     "output_type": "stream",
     "text": [
      "s\n",
      "g\n",
      "h\n",
      "e\n",
      "w\n",
      "r\n",
      "n\n",
      "k\n",
      "-1\n",
      "-1\n"
     ]
    }
   ],
   "source": [
    "# function to find the kth largest frequency\n",
    "\n",
    "\n",
    "def kLargestFrequency(li,k):\n",
    "    unique = {}\n",
    "    for n in li:\n",
    "        if n not in unique:\n",
    "            unique[n] = 1\n",
    "        else:\n",
    "            unique[n] += 1\n",
    "#     print(unique)\n",
    "    maxf = unique.values()  \n",
    "#     print(maxf)\n",
    "    maxf = list(set(maxf))\n",
    "    maxf = sorted(maxf)\n",
    "#     print(maxf)\n",
    "    if len(maxf) > k:\n",
    "        maxfreq=maxf[len(maxf)-k]\n",
    "#         print(maxfreq)\n",
    "        maxfreqkeys = []\n",
    "        for item in unique.items():\n",
    "            if item[1] == maxfreq:\n",
    "                maxfreqkeys.append(item[0])\n",
    "        return min(maxfreqkeys)\n",
    "    return -1\n",
    "\n",
    "with open('DataFiles/KLargestfrequencies.txt','r') as f:\n",
    "    t = int(f.readline())\n",
    "    for i in range(t):\n",
    "        s=f.readline()\n",
    "        k=int(f.readline())\n",
    "        print(kLargestFrequency(s,k))\n",
    "        \n",
    "# kLargestFrequency([9,8,7,6,5,2,3,4,9,6,7,7,7,6,7,6],2) # k = 4\n",
    "    "
   ]
  },
  {
   "cell_type": "code",
   "execution_count": 134,
   "metadata": {},
   "outputs": [
    {
     "name": "stdout",
     "output_type": "stream",
     "text": [
      "{9: 2, 8: 1, 7: 5, 6: 4, 5: 1, 2: 1, 3: 1, 4: 1}\n",
      "[5, 4, 2, 1, 1, 1, 1, 1]\n",
      "[1, 2, 4, 5]\n",
      "2\n"
     ]
    },
    {
     "data": {
      "text/plain": [
       "9"
      ]
     },
     "execution_count": 134,
     "metadata": {},
     "output_type": "execute_result"
    }
   ],
   "source": [
    "# function to find the kth smallest frequency\n",
    "\n",
    "\n",
    "def ksmallestFrequency(li,k):\n",
    "    unique = {}\n",
    "    for n in li:\n",
    "        if n not in unique:\n",
    "            unique[n] = 1\n",
    "        else:\n",
    "            unique[n] += 1\n",
    "    print(unique)\n",
    "    maxf = unique.values()\n",
    "    maxf = sorted(maxf,reverse=True)\n",
    "    print(maxf)\n",
    "    maxf = list(set(maxf))\n",
    "    print(maxf)\n",
    "    if len(maxf) >= k:\n",
    "        maxfreq=maxf[k-1]\n",
    "        print(maxfreq)\n",
    "        maxfreqkeys = []\n",
    "        for item in unique.items():\n",
    "            if item[1] == maxfreq:\n",
    "                maxfreqkeys.append(item[0])\n",
    "        return min(maxfreqkeys)\n",
    "    return -1\n",
    "\n",
    "ksmallestFrequency([9,8,7,6,5,2,3,4,9,6,7,7,7,6,7,6],2)"
   ]
  },
  {
   "cell_type": "code",
   "execution_count": null,
   "metadata": {},
   "outputs": [],
   "source": []
  }
 ],
 "metadata": {
  "kernelspec": {
   "display_name": "Python 3",
   "language": "python",
   "name": "python3"
  },
  "language_info": {
   "codemirror_mode": {
    "name": "ipython",
    "version": 3
   },
   "file_extension": ".py",
   "mimetype": "text/x-python",
   "name": "python",
   "nbconvert_exporter": "python",
   "pygments_lexer": "ipython3",
   "version": "3.7.3"
  }
 },
 "nbformat": 4,
 "nbformat_minor": 2
}
