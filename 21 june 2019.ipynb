{
 "cells": [
  {
   "cell_type": "code",
   "execution_count": 14,
   "metadata": {},
   "outputs": [
    {
     "name": "stdout",
     "output_type": "stream",
     "text": [
      "[]\n",
      "1\n"
     ]
    }
   ],
   "source": [
    "\n",
    "def FrequencyCount(l):\n",
    "    count=1\n",
    "    k=[]\n",
    "    for i in l:\n",
    "        if i in k:\n",
    "            k.append(l[i])\n",
    "            count+=1\n",
    "    print(k)\n",
    "    print(count)\n",
    "\n",
    "FrequencyCount([2,4,5,5,9])\n"
   ]
  },
  {
   "cell_type": "code",
   "execution_count": 18,
   "metadata": {},
   "outputs": [
    {
     "name": "stdout",
     "output_type": "stream",
     "text": [
      "Satish Already Exists\n"
     ]
    }
   ],
   "source": [
    "#Function to add contact to contacts te\n",
    "\n",
    "from Packages.validators import phonenumberValidator as pnv, emailValidator as ev\n",
    "\n",
    "def addContact(name, phone, email):\n",
    "    #store data as name,phone,email in the contacts file\n",
    "    filename = 'DataFiles\\contacts.txt'\n",
    "    if not CheckContactExists(name):\n",
    "        if pnv(phone) and ev(email):\n",
    "            with open(filename, 'a') as f:\n",
    "                line = name + ',' + str(phone) + ',' + email + '\\n'\n",
    "                f.write(line)\n",
    "            print(name, \"Name added to Contacts list\")\n",
    "        else:\n",
    "            print(phone,\"Invalid Phone number or Email\")\n",
    "            return \n",
    "    else:\n",
    "        print(name,\"Already Exists\")\n",
    "    return \n",
    "\n",
    "#addContact(\"name2\",9876754553,\"name2_123@gmail.com\")\n",
    "\n",
    "\n",
    "import re\n",
    "#Function to check if contact already exists\n",
    "def CheckContactExists(name):\n",
    "    filename = 'DataFiles\\contacts.txt'\n",
    "    with open(filename, 'r') as f:\n",
    "        filedata = f.read()\n",
    "        pattern = name + ','\n",
    "    return re.search(pattern, filedata)\n",
    "\n",
    "addContact(\"Satish\",9876754553,\"samplekiran@gmail.com\")"
   ]
  },
  {
   "cell_type": "code",
   "execution_count": 5,
   "metadata": {},
   "outputs": [
    {
     "data": {
      "text/plain": [
       "'name1,9876756453,name1_123@gmail.com\\nname2,9876754553,name2_123@gmail.com\\nRaju,9876564736,asdasdadsd123@gmail.com\\nKiran,9876564745,samplekiran@gmail.com\\nSatish,9876754553,samplekiran@gmail.com\\n'"
      ]
     },
     "execution_count": 5,
     "metadata": {},
     "output_type": "execute_result"
    }
   ],
   "source": [
    "\n",
    "def csvToList(contacts):\n",
    "    li=[]\n",
    "    with open(filename, 'r') as f:\n",
    "        for line in f:\n",
    "            li.append(line.split(','))\n",
    "    return li\n",
    "\n",
    "def listToFile(li):\n",
    "    s=''\n",
    "    for i in li:\n",
    "        s += ','.join(i)\n",
    "    return s\n",
    "    \n",
    "filename='DataFiles/contacts.txt'\n",
    "li=csvToList(filename)\n",
    "listToFile(li)"
   ]
  },
  {
   "cell_type": "code",
   "execution_count": null,
   "metadata": {},
   "outputs": [],
   "source": []
  }
 ],
 "metadata": {
  "kernelspec": {
   "display_name": "Python 3",
   "language": "python",
   "name": "python3"
  },
  "language_info": {
   "codemirror_mode": {
    "name": "ipython",
    "version": 3
   },
   "file_extension": ".py",
   "mimetype": "text/x-python",
   "name": "python",
   "nbconvert_exporter": "python",
   "pygments_lexer": "ipython3",
   "version": "3.7.3"
  }
 },
 "nbformat": 4,
 "nbformat_minor": 2
}
