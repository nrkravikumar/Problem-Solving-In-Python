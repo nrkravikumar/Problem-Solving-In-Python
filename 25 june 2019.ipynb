{
 "cells": [
  {
   "cell_type": "code",
   "execution_count": 30,
   "metadata": {},
   "outputs": [
    {
     "name": "stdout",
     "output_type": "stream",
     "text": [
      "a11472o5t6\n",
      "0 2 1 0 1 1 1 1 0 0 "
     ]
    }
   ],
   "source": [
    "# Evaluation Exam 2nd Problem Frequency count of a digit\n",
    "\n",
    "# Input: a11472o5t6 \n",
    "# Output: 0 2 1 0 1 1 1 1 0 0\n",
    "\n",
    "# s = 123abcdef456\n",
    "\n",
    "\n",
    "\n",
    "\n",
    "'''\n",
    "def digitFreq(n):\n",
    "    k=len(n)\n",
    "    if k <= 10:\n",
    "        l=list(n)\n",
    "        print(l)\n",
    "        for i in range(len(l)):\n",
    "            count=0\n",
    "            for j in range(10):\n",
    "                if i == str(j):\n",
    "                    count+=1\n",
    "                else:\n",
    "                    count+=0'''    \n",
    "    \n",
    "def uniqueData(allnumbers):\n",
    "    unique = []\n",
    "    for n in allnumbers:\n",
    "        if n not in unique:\n",
    "            unique.append(n)\n",
    "    return unique\n",
    "\n",
    "def digitFrequency1(s):\n",
    "    allnumbers = []\n",
    "    for i in s:\n",
    "        if i.isdigit():\n",
    "            allnumbers.append(i)\n",
    "    unique = uniqueData(allnumbers)\n",
    "    for i in range(0,10):\n",
    "        if str(i) not in unique:\n",
    "            print(0,end=\" \")\n",
    "        else:\n",
    "            count = allnumbers.count(str(i))\n",
    "            print(count,end=\" \")\n",
    "    \n",
    "n=input()\n",
    "digitFrequency1(n)"
   ]
  },
  {
   "cell_type": "code",
   "execution_count": 36,
   "metadata": {},
   "outputs": [
    {
     "name": "stdout",
     "output_type": "stream",
     "text": [
      "0 2 1 0 1 1 1 1 0 0 "
     ]
    }
   ],
   "source": [
    "def digitFrequency2(s):\n",
    "    count=0\n",
    "    for i in range(0,10):\n",
    "        count = s.count(str(i))\n",
    "        print(count,end=\" \")\n",
    "    \n",
    "digitFrequency2('a11472o5t6')"
   ]
  },
  {
   "cell_type": "code",
   "execution_count": null,
   "metadata": {},
   "outputs": [],
   "source": [
    "# Function to generate marks data for n students\n",
    "from random import randint\n",
    "\n",
    "def generateMarks(n, lb, ub):\n",
    "    with open('DataFiles/marks.txt','w') as f:\n",
    "        for i in range(0, n):\n",
    "            r = randint(lb,ub)\n",
    "            f.write(str(r) + '\\n')\n",
    "    return \n",
    "generateMarks(10000,0,100)"
   ]
  },
  {
   "cell_type": "code",
   "execution_count": 7,
   "metadata": {},
   "outputs": [
    {
     "name": "stdout",
     "output_type": "stream",
     "text": [
      "Class Average is : 19\n"
     ]
    }
   ],
   "source": [
    "#function to generate class average marks\n",
    "\n",
    "def ClassAverage():\n",
    "    sum=0\n",
    "    l=[]\n",
    "    count=0\n",
    "    with open('DataFiles/marks.txt','r') as f:\n",
    "        for i in f.read().split():\n",
    "            #print(i,end=\"\")\n",
    "            l.append(int(i))\n",
    "            count+=1\n",
    "        for i in range(len(l)):\n",
    "            sum+=i\n",
    "        #print(sum)\n",
    "        print(\"Class Average is : %d\"%(sum//count))\n",
    "    \n",
    "ClassAverage()"
   ]
  },
  {
   "cell_type": "code",
   "execution_count": 3,
   "metadata": {},
   "outputs": [
    {
     "name": "stdout",
     "output_type": "stream",
     "text": [
      "[92, 90, 63, 57, 68, 52, 50, 84, 52, 99, 54, 89, 93, 57, 53, 92, 37, 99, 68, 39, 53, 39, 55, 89, 37, 84, 46]\n",
      "40\n",
      "Percentage of Students Passed : 67\n"
     ]
    }
   ],
   "source": [
    "# Function to generate the % of students passed\n",
    "\n",
    "def StudentsPassed():\n",
    "    l=[]\n",
    "    count=0\n",
    "    sum=0\n",
    "    with open('DataFiles/marks.txt','r') as f:\n",
    "        for i in f.read().split():\n",
    "            #print(i)\n",
    "            if int(i) > 35:\n",
    "                l.append(int(i))\n",
    "                count+=1\n",
    "            else:\n",
    "                count+=1\n",
    "        #for i in range(len(l)):\n",
    "         #   sum+=i\n",
    "        print(l)\n",
    "        #print(sum)\n",
    "        print(count)\n",
    "        print(\"Percentage of Students Passed : %d\"%((len(l)/count*100)))\n",
    "        \n",
    "StudentsPassed()"
   ]
  },
  {
   "cell_type": "code",
   "execution_count": 6,
   "metadata": {},
   "outputs": [
    {
     "name": "stdout",
     "output_type": "stream",
     "text": [
      "[14, 17, 27, 19, 34, 34, 30, 34, 13, 22, 37, 4, 6, 39, 39, 10, 37]\n",
      "40\n",
      "Percentage of Students Failed : 42\n"
     ]
    }
   ],
   "source": [
    "# Function to generate the % of students Failed\n",
    "def StudentsFailed():\n",
    "    l=[]\n",
    "    count=0\n",
    "    sum=0\n",
    "    with open('DataFiles/marks.txt','r') as f:\n",
    "        for i in f.read().split():\n",
    "            #print(i)\n",
    "            if int(i) <= 45:\n",
    "                l.append(int(i))\n",
    "                count+=1\n",
    "            else:\n",
    "                count+=1\n",
    "        #for i in range(len(l)):\n",
    "         #   sum+=i\n",
    "        print(l)\n",
    "        print(count)\n",
    "        print(\"Percentage of Students Failed : %d\"%((len(l)/count*100)))\n",
    "\n",
    "StudentsFailed()"
   ]
  },
  {
   "cell_type": "code",
   "execution_count": 7,
   "metadata": {},
   "outputs": [
    {
     "name": "stdout",
     "output_type": "stream",
     "text": [
      "[92, 90, 84, 99, 89, 93, 92, 99, 89, 84]\n",
      "40\n",
      "Percentage of Students in Distinction : 25\n"
     ]
    }
   ],
   "source": [
    "# Function to generate the % of students with distinction\n",
    "\n",
    "def StudentsDistinction():\n",
    "    l=[]\n",
    "    count=0\n",
    "    sum=0\n",
    "    with open('DataFiles/marks.txt','r') as f:\n",
    "        for i in f.read().split():\n",
    "            #print(i)\n",
    "            if int(i) >= 75:\n",
    "                l.append(int(i))\n",
    "                count+=1\n",
    "            else:\n",
    "                count+=1\n",
    "        #for i in range(len(l)):\n",
    "         #   sum+=i\n",
    "        print(l)\n",
    "        print(count)\n",
    "        print(\"Percentage of Students in Distinction : %d\"%((len(l)/count*100)))\n",
    "\n",
    "StudentsDistinction()"
   ]
  },
  {
   "cell_type": "code",
   "execution_count": 9,
   "metadata": {},
   "outputs": [
    {
     "name": "stdout",
     "output_type": "stream",
     "text": [
      "[99, 99, 93, 92, 92, 90, 89, 89, 84, 84, 68, 68, 63, 57, 57, 55, 54, 53, 53, 52, 52, 50, 46, 39, 39, 37, 37, 34, 34, 34, 30, 27, 22, 19, 17, 14, 13, 10, 6, 4]\n",
      "0 0 0 0 1 0 1 0 0 0 1 0 0 1 1 0 0 1 0 1 0 0 1 0 0 0 0 1 0 0 1 0 0 0 3 0 0 2 0 2 [99, 99, 93, 92, 92, 90, 89, 89, 84, 84, 68, 68, 63, 57, 57, 55, 54, 53, 53, 52, 52, 50, 46, 39, 39, 37, 37, 34, 34, 34, 30, 27, 22, 19, 17, 14, 13, 10, 6, 4]\n"
     ]
    }
   ],
   "source": [
    "# Function to print the Highest Marks Frequency\n",
    "\n",
    "def HighestMarksFrequency():\n",
    "    sum=0\n",
    "    l=[]\n",
    "    k=[]\n",
    "    count=0\n",
    "    with open('DataFiles/marks.txt','r') as f:\n",
    "        for i in f.read().split():\n",
    "            l.append(int(i))\n",
    "        k=sorted(l)\n",
    "        k.sort(reverse=True)\n",
    "        print(k)\n",
    "        for i in range(len(k)):\n",
    "            count = k.count(i)\n",
    "            print(count,end=\" \")\n",
    "        print(k)\n",
    "HighestMarksFrequency()\n",
    "    "
   ]
  },
  {
   "cell_type": "code",
   "execution_count": 7,
   "metadata": {},
   "outputs": [
    {
     "data": {
      "text/plain": [
       "5"
      ]
     },
     "execution_count": 7,
     "metadata": {},
     "output_type": "execute_result"
    }
   ],
   "source": [
    "# Function to check if two strings are anagrams\n",
    "# abc cba -> True\n",
    "# abc abc\n",
    "# {a:1, b:1, c:1} {c:1, a:1, b=1}\n",
    "# aabbcc ccbbaaa -> False\n",
    "# aabbcc aaabbcc\n",
    "# abc \n",
    "# {a:2, b:2, c:2} {a:3, b:2, c:2}\n",
    "\n",
    "# abcccddd\n",
    "# aabccee\n",
    "# uncommon = [e,e,d,d,d]\n",
    "\n",
    "\n",
    "\n",
    "\n",
    "def CheckAnagrams(s1,s2):\n",
    "    if len(s1) != len(s2):\n",
    "        return False\n",
    "    if sorted(s1) == sorted(s2):\n",
    "        return True\n",
    "    return False\n",
    "\n",
    "#CheckAnagrams('abc','bcc')\n",
    "\n",
    "def charDeletionsAnagrams(s1,s2):\n",
    "    uncommon = []\n",
    "    for i in s1:\n",
    "        if i not in s2:\n",
    "            uncommon.append(i)\n",
    "    for i in s2:\n",
    "        if i not in s1:\n",
    "            uncommon.append(i)\n",
    "    count = len(uncommon)\n",
    "    freqs1 = {}\n",
    "    freqs2 = {}\n",
    "    uniqs1 = []\n",
    "    uniqs2 = []\n",
    "    for i in s1:\n",
    "        if i not in uncommon and i not in uniqs1:\n",
    "            freqs1[i] = s1.count(i)\n",
    "            uniqs1.append(i)\n",
    "    for i in s2:\n",
    "        if i not in uncommon and i not in uniqs2:\n",
    "            freqs2[i] = s2.count(i)\n",
    "            uniqs2.append(i)\n",
    "    for key in freqs1.keys():\n",
    "        count += abs(freqs1[key] - freqs2[key])\n",
    "    return count\n",
    "\n",
    "charDeletionsAnagrams('abccde','aabcb')\n",
    "            "
   ]
  },
  {
   "cell_type": "code",
   "execution_count": 15,
   "metadata": {},
   "outputs": [
    {
     "data": {
      "text/plain": [
       "62228"
      ]
     },
     "execution_count": 15,
     "metadata": {},
     "output_type": "execute_result"
    }
   ],
   "source": [
    "#Function for floor average in a range\n",
    "\n",
    "def averageRange(lb,ub):\n",
    "    sum=0\n",
    "    for i in range(lb, ub+1):\n",
    "        sum += i\n",
    "    count = ub-lb+1\n",
    "    return sum//count\n",
    "\n",
    "'''\n",
    "def averageRange2(lb,ub):\n",
    "    l=[]\n",
    "    for i in range(lb,ub+1):\n",
    "        l.append(i)\n",
    "    return (sum(l)//len(l))'''\n",
    "\n",
    "averageRange(1000,123456) #62228\n",
    "#averageRange2(1000,123456)"
   ]
  },
  {
   "cell_type": "code",
   "execution_count": 21,
   "metadata": {},
   "outputs": [
    {
     "data": {
      "text/plain": [
       "'b'"
      ]
     },
     "execution_count": 21,
     "metadata": {},
     "output_type": "execute_result"
    }
   ],
   "source": [
    "# Largest number in a list\n",
    "# Second Largest number in a list\n",
    "# Kth Largest number in a list\n",
    "\n",
    "# Frequency(Element with highest frequency)\n",
    "# Second Highest frequency\n",
    "# Kth Highest frequency\n",
    "\n",
    "# {a:4, g:9, i:6, p:213, c:6}\n",
    "# [4,6,6,9,213]\n",
    "# [213, 9, 6, 6, 4]\n",
    "# [a,c,g,i,p]\n",
    "# k = 3\n",
    "# li = []\n",
    "# for item in d.items():\n",
    "#    if item[1] == 6:\n",
    "#       li.append(item[0])\n",
    "# li = [i,c]\n",
    "\n",
    "\n",
    "def kLargestFrequency(s,k):\n",
    "    #Construct the frequency dictionary fro all unique characters\n",
    "    #unique = []\n",
    "    freq = {}\n",
    "    for i in s:\n",
    "        if i not in freq.keys():\n",
    "            freq[i] = s.count(i)\n",
    "    #\n",
    "    values = sorted(freq.values(),reverse=True)\n",
    "    uniqueValues = list(set(values))\n",
    "    uniqueValues = sorted(uniqueValues,reverse=True)\n",
    "    if k <= len(uniqueValues):\n",
    "        kvalue = uniqueValues[k-1]\n",
    "        li = []\n",
    "        for item in freq.items():\n",
    "            if item[1] == kvalue:\n",
    "                li.append(item[0])  \n",
    "    # Minimum of Kth Largeste Frequency\n",
    "        return min(li)\n",
    "    else:\n",
    "        return -1\n",
    "    \n",
    "'''    \n",
    "with open('../DataFrames/input.txt','r') as f:\n",
    "    t = int(f.readline())\n",
    "    for i in range(t):\n",
    "        s=f.readline()\n",
    "        k=int(f.readline())\n",
    "        print(kLargestFrequency(s,k))\n",
    "'''        \n",
    "kLargestFrequency('aabcdcc',3)"
   ]
  },
  {
   "cell_type": "code",
   "execution_count": null,
   "metadata": {},
   "outputs": [],
   "source": []
  }
 ],
 "metadata": {
  "kernelspec": {
   "display_name": "Python 3",
   "language": "python",
   "name": "python3"
  },
  "language_info": {
   "codemirror_mode": {
    "name": "ipython",
    "version": 3
   },
   "file_extension": ".py",
   "mimetype": "text/x-python",
   "name": "python",
   "nbconvert_exporter": "python",
   "pygments_lexer": "ipython3",
   "version": "3.7.3"
  }
 },
 "nbformat": 4,
 "nbformat_minor": 2
}
