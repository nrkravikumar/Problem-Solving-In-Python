{
 "cells": [
  {
   "cell_type": "code",
   "execution_count": null,
   "metadata": {},
   "outputs": [],
   "source": [
    "def minuteDifference(s):\n",
    "    s=s.split()\n",
    "    sh=int(s[0])\n",
    "    sm=int(s[1])\n",
    "    eh=int(s[2])\n",
    "    em=int(s[3])\n",
    "    startminute=(sh*60)+sm\n",
    "    endminute=(eh*60)+em\n",
    "    return endminute-startminute\n",
    "\n",
    "def outputTimeFormat(minutes):\n",
    "    #convert minutes to hours\n",
    "    hh = minutes // 60\n",
    "    mm = minutes % 60\n",
    "    print(hh,mm)\n",
    "    return\n",
    "\n",
    "n = int(input())\n",
    "for i in range(n):\n",
    "    s = input()\n",
    "    minutes = minuteDifference(s)\n",
    "    outputTimeFormat(minutes)\n"
   ]
  },
  {
   "cell_type": "code",
   "execution_count": 2,
   "metadata": {},
   "outputs": [
    {
     "name": "stdout",
     "output_type": "stream",
     "text": [
      "1\n",
      "5\n",
      "3\n"
     ]
    }
   ],
   "source": [
    "def divide(n):\n",
    "    l=[]\n",
    "    al=[]\n",
    "    for i in range(n-1,0,-1):\n",
    "        #print(i)\n",
    "        k=n%i\n",
    "        l.append(k)\n",
    "        #print(l)\n",
    "        if max(l) > k:\n",
    "            al.append(i)\n",
    "            #print(re)\n",
    "    return max(al)+1\n",
    "            \n",
    "n=input()\n",
    "for i in range(int(n)):\n",
    "    s=int(input())\n",
    "    print(divide(s))"
   ]
  },
  {
   "cell_type": "code",
   "execution_count": 7,
   "metadata": {},
   "outputs": [
    {
     "name": "stdout",
     "output_type": "stream",
     "text": [
      "2 5 "
     ]
    }
   ],
   "source": [
    "def factlist(n):\n",
    "    count=0\n",
    "    for i in range(2,n):\n",
    "        if n%i==0:\n",
    "            #count+=1\n",
    "            print(i,end=\" \")\n",
    "    #return count\n",
    "    \n",
    "factlist(10)"
   ]
  },
  {
   "cell_type": "code",
   "execution_count": 23,
   "metadata": {},
   "outputs": [
    {
     "name": "stdout",
     "output_type": "stream",
     "text": [
      "2\n",
      "6\n",
      "1\n",
      "No\n",
      "2\n",
      "No\n",
      "6\n",
      "Yes\n",
      "12\n",
      "No\n",
      "10\n",
      "Yes\n",
      "6\n",
      "Yes\n"
     ]
    }
   ],
   "source": [
    "def factlist(n):\n",
    "    count=0\n",
    "    for i in range(2,n):\n",
    "        if n%i==0:\n",
    "            count+=1\n",
    "            #print(i,end=\" \")\n",
    "    return count\n",
    "\n",
    "n=int(input())\n",
    "p=input()\n",
    "l=[]\n",
    "for i in range(int(p)):\n",
    "    s=int(input())\n",
    "    l.append(factlist(s))\n",
    "    if n==l[i]:\n",
    "        print(\"Yes\")\n",
    "    else:\n",
    "        print(\"No\")\n",
    "#print(l)\n",
    "\n",
    "#factlist(12)"
   ]
  },
  {
   "cell_type": "code",
   "execution_count": 22,
   "metadata": {},
   "outputs": [
    {
     "name": "stdout",
     "output_type": "stream",
     "text": [
      "asdasdasdad\n",
      "Numbers = 0 and Characters =11\n"
     ]
    }
   ],
   "source": [
    "def CharnumCount(s):\n",
    "    num=char=0\n",
    "    for i in s:\n",
    "        if i.isdigit():\n",
    "            num+=1\n",
    "        elif i.isalpha():\n",
    "            char+=1\n",
    "    print(\"Numbers = {0} and Characters = {1}\".format(num,char))\n",
    "\n",
    "n=input()\n",
    "CharnumCount(n)"
   ]
  },
  {
   "cell_type": "code",
   "execution_count": null,
   "metadata": {},
   "outputs": [],
   "source": []
  }
 ],
 "metadata": {
  "kernelspec": {
   "display_name": "Python 3",
   "language": "python",
   "name": "python3"
  },
  "language_info": {
   "codemirror_mode": {
    "name": "ipython",
    "version": 3
   },
   "file_extension": ".py",
   "mimetype": "text/x-python",
   "name": "python",
   "nbconvert_exporter": "python",
   "pygments_lexer": "ipython3",
   "version": "3.7.3"
  }
 },
 "nbformat": 4,
 "nbformat_minor": 2
}
