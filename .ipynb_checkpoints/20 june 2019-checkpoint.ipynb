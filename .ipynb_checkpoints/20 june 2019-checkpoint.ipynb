{
 "cells": [
  {
   "cell_type": "markdown",
   "metadata": {},
   "source": [
    "# Regular Expression:\n",
    "\n",
    "- Pattern Matching\n",
    "- Pattern(RE) \n",
    "- Symbolic Notation of Pattern\n",
    "    - Pattern: Format which repeats\n",
    "    - Pttern(RE) represents the setof all values\n",
    "- [0-9] -> Any Digit\n",
    "- [a-z] -> Any lower case alphabet\n",
    "- [2468] -> All single digit multiples of 2\n",
    "- ^[0-9]{1}$ -> Only Single digit numbers\n",
    "\n",
    "- ^[0-9]{3}$ -> Only 3 digit numbers\n",
    "\n",
    "- [0-9]*0$ -> All multiples of 10\n",
    "\n",
    "- ^([1-9][0-9]*[05])$|^([5])$ -> All multiples of 5\n",
    "\n",
    "- ^[1-9][0-9]{9}$ -> All 10 digit numbers\n",
    "\n",
    "-  [w][o][r][d]  or (word) -> Searching for a word\n",
    "\n",
    "- ^[6-9][0-9]{9}$|^[0][6-9][0-9]{9}$|^[+](91)[6-9][0-9]{9} -> Validating Phone number(India) (start with 9876) it takes the numbers from 10 digits and have to validate the +91 and 0 ten numbers etc., or else we can use the +, 9 and 1 in seperate square brackets so it can executes the same validation\n",
    "\n",
    "\n",
    "- -> Email Validation(username@domain.extension) \n",
    "\n",
    "    Mysolution for email ^[a-zA-Z][a-zA-Z0-9.]*[@]+(gmail.com|yahoo.in|apssdc.in)\n",
    "    \n",
    "    - username \n",
    "        - Length of username : [6, 15]\n",
    "        - No special characters other thn _ .\n",
    "        - should not begin and end with   _ or .\n",
    "        - Character Set: all digits and lower case alphbets\n",
    "    - domain\n",
    "        - Length of domain : [3, 18]\n",
    "        - No Special characters\n",
    "        - Character set: All digits and lower alphabets\n",
    "        \n",
    "    - extension\n",
    "        - Length of extension : [2, 4]\n",
    "        - No special characters\n",
    "        - character Set : Alphabet\n",
    "        \n",
    "    ^[a-z0-9][a-z0-9._]{4,13}[0-9a-z][@][a-z0-9]{3,18}[.][a-z]{2,4} executed for email validation\n",
    "    \n",
    "  - Any string of length 5 that starts with 'a' and ends with 'z'\n",
    "      ^[a]...[z]$\n",
    "      \n",
    "      ^[a].*[z]$ it represents all the n number of length in a string\n",
    "      \n",
    "      ^[a]...[z]$ -> Any String of length 5 that starts with a and ends with z\n",
    "      \n",
    "      ^[a].*[z]$ -> Any string of lengths that starts with a and ends with z"
   ]
  },
  {
   "cell_type": "code",
   "execution_count": 2,
   "metadata": {},
   "outputs": [],
   "source": [
    "#Function to Validate a Phone number\n",
    "\n",
    "import re\n",
    "\n",
    "def phonenumberValidator(number):\n",
    "    pattern = \"^[6-9][0-9]{9}$|^[0][6-9][0-9]{9}$|^[+](91)[6-9][0-9]{9}\"\n",
    "    if re.match(pattern,str(number)):\n",
    "        return True\n",
    "    return False\n",
    "\n",
    "#phonenumberValidator(9876785764)\n",
    "\n",
    "def emailValidator(email):\n",
    "    pattern = \"^[a-z0-9][a-z0-9._]{4,13}[0-9a-z][@][a-z0-9]{3,18}[.][a-z]{2,4}\"\n",
    "    if re.match(pattern,email):\n",
    "        return True\n",
    "    return False\n",
    "\n",
    "#emailValidator(\"re_1234@gmail.com\")\n"
   ]
  },
  {
   "cell_type": "code",
   "execution_count": 1,
   "metadata": {},
   "outputs": [
    {
     "ename": "NameError",
     "evalue": "name 'phonenumberValidator' is not defined",
     "output_type": "error",
     "traceback": [
      "\u001b[1;31m---------------------------------------------------------------------------\u001b[0m",
      "\u001b[1;31mNameError\u001b[0m                                 Traceback (most recent call last)",
      "\u001b[1;32m<ipython-input-1-4cd1ec1cdf29>\u001b[0m in \u001b[0;36m<module>\u001b[1;34m\u001b[0m\n\u001b[0;32m     17\u001b[0m     \u001b[1;32mreturn\u001b[0m\u001b[1;33m\u001b[0m\u001b[1;33m\u001b[0m\u001b[0m\n\u001b[0;32m     18\u001b[0m \u001b[1;33m\u001b[0m\u001b[0m\n\u001b[1;32m---> 19\u001b[1;33m \u001b[0maddContact\u001b[0m\u001b[1;33m(\u001b[0m\u001b[1;34m\"kiran\"\u001b[0m\u001b[1;33m,\u001b[0m\u001b[1;36m9876765434\u001b[0m\u001b[1;33m,\u001b[0m\u001b[1;34m'rravikumar34@gmail.com'\u001b[0m\u001b[1;33m)\u001b[0m\u001b[1;33m\u001b[0m\u001b[1;33m\u001b[0m\u001b[0m\n\u001b[0m",
      "\u001b[1;32m<ipython-input-1-4cd1ec1cdf29>\u001b[0m in \u001b[0;36maddContact\u001b[1;34m(name, phone, email)\u001b[0m\n\u001b[0;32m      5\u001b[0m         \u001b[0mprint\u001b[0m\u001b[1;33m(\u001b[0m\u001b[0mname\u001b[0m\u001b[1;33m,\u001b[0m\u001b[1;34m\"Already Exists\"\u001b[0m\u001b[1;33m)\u001b[0m\u001b[1;33m\u001b[0m\u001b[1;33m\u001b[0m\u001b[0m\n\u001b[0;32m      6\u001b[0m     \u001b[1;32melse\u001b[0m\u001b[1;33m:\u001b[0m\u001b[1;33m\u001b[0m\u001b[1;33m\u001b[0m\u001b[0m\n\u001b[1;32m----> 7\u001b[1;33m         \u001b[1;32mif\u001b[0m \u001b[1;32mnot\u001b[0m \u001b[0mphonenumberValidator\u001b[0m\u001b[1;33m(\u001b[0m\u001b[0mphone\u001b[0m\u001b[1;33m)\u001b[0m\u001b[1;33m:\u001b[0m\u001b[1;33m\u001b[0m\u001b[1;33m\u001b[0m\u001b[0m\n\u001b[0m\u001b[0;32m      8\u001b[0m             \u001b[0mprint\u001b[0m\u001b[1;33m(\u001b[0m\u001b[1;34m\"Invalid Phone number\"\u001b[0m\u001b[1;33m)\u001b[0m\u001b[1;33m\u001b[0m\u001b[1;33m\u001b[0m\u001b[0m\n\u001b[0;32m      9\u001b[0m         \u001b[1;32mreturn\u001b[0m\u001b[1;33m\u001b[0m\u001b[1;33m\u001b[0m\u001b[0m\n",
      "\u001b[1;31mNameError\u001b[0m: name 'phonenumberValidator' is not defined"
     ]
    }
   ],
   "source": [
    "contacts={\"name1\":[9876857456,\"rrahu@gmail.com\"],\"name2\":[7867564532,\"sample@yahoo.in\"]}\n",
    "def addContact(name,phone,email):\n",
    "    #Verify that the contact doesnot already exists\n",
    "    if name in contacts:\n",
    "        print(name,\"Already Exists\")\n",
    "    else:\n",
    "        if not phonenumberValidator(phone):\n",
    "            print(\"Invalid Phone number\")\n",
    "            return\n",
    "        if not emailValidator(email):\n",
    "            print(\"Invalid Email Address\")\n",
    "            return \n",
    "        newcontact = []\n",
    "        newcontact.append(phone)\n",
    "        newcontact.append(email)\n",
    "        contacts[name] = newcontact\n",
    "    return \n",
    "\n",
    "addContact(\"kiran\",9876765434,'rravikumar34@gmail.com')"
   ]
  },
  {
   "cell_type": "code",
   "execution_count": 3,
   "metadata": {},
   "outputs": [
    {
     "name": "stdout",
     "output_type": "stream",
     "text": [
      "1 Contacts Added Successfully\n"
     ]
    },
    {
     "data": {
      "text/plain": [
       "{'name1': [9876857456, 'rrahu@gmail.com'],\n",
       " 'name2': [7867564532, 'sample@yahoo.in'],\n",
       " 'name4': [908976545, 'name4_123@gmail.com']}"
      ]
     },
     "execution_count": 3,
     "metadata": {},
     "output_type": "execute_result"
    }
   ],
   "source": [
    "#New Contacts is given in a Dictionary\n",
    "#Merge new Contacts with Exiting in a Dictionary\n",
    "\n",
    "def importContacts(newContacts):\n",
    "    contacts.update(newContacts)\n",
    "    print(len(newContacts.keys()),\"Contacts Added Successfully\")\n",
    "    return\n",
    "\n",
    "newContacts={\"name4\":[908976545,\"name4_123@gmail.com\"]}\n",
    "importContacts(newContacts)\n",
    "contacts"
   ]
  },
  {
   "cell_type": "code",
   "execution_count": 9,
   "metadata": {},
   "outputs": [
    {
     "name": "stdout",
     "output_type": "stream",
     "text": [
      "name1 \n",
      " Phone: 9876857456 \n",
      " Email: rrahu@gmail.com\n",
      "name2 \n",
      " Phone: 7867564532 \n",
      " Email: sample@yahoo.in\n",
      "name4 \n",
      " Phone: 908976545 \n",
      " Email: name4_123@gmail.com\n"
     ]
    }
   ],
   "source": [
    "#Function to list all contacts\n",
    "\n",
    "def listAllContacts():\n",
    "    for i,j in contacts.items():\n",
    "        print(i,\"\\n\", \"Phone:\",j[0],\"\\n\",\"Email:\",j[1])\n",
    "\n",
    "listAllContacts()"
   ]
  },
  {
   "cell_type": "code",
   "execution_count": null,
   "metadata": {},
   "outputs": [],
   "source": [
    "#Function to Edit contact information\n",
    "\n",
    "#def editContact(name, phone, email):    Assignment Work\n",
    "    "
   ]
  },
  {
   "cell_type": "markdown",
   "metadata": {},
   "source": [
    "# File Handling in Python:\n",
    "\n",
    "File - Document containing information residing on the permanent storage\n",
    "Types - Text, PDF, CSV etc.,\n",
    "\n",
    "File I/O - Channelling I/O data to files\n",
    "Default I/O Channels - Keyboard / Monitor | Screen\n",
    "\n",
    "Change I/O channel to files for Reading and writing into files\n",
    "\n",
    "Read a file - Input from a file (open)\n",
    "Write to a file - Output to a file (close)\n",
    "\n",
    "Read / write a file - open(filename, mode)"
   ]
  },
  {
   "cell_type": "code",
   "execution_count": 24,
   "metadata": {},
   "outputs": [
    {
     "name": "stdout",
     "output_type": "stream",
     "text": [
      "Line1\n",
      "Line2\n",
      "Line3\n",
      "\n",
      "\n"
     ]
    }
   ],
   "source": [
    "# Function to Read a File\n",
    "\n",
    "\n",
    "def readFile(filename):\n",
    "    f = open(filename,'r')\n",
    "    filedata = f.read()\n",
    "    f.close()\n",
    "    return filedata\n",
    "\n",
    "filename = \"DataFiles/data.txt\"\n",
    "filedata = readFile(filename)\n",
    "'''for line in filedata.split('\\n'):\n",
    "    print(line)'''\n",
    "\n",
    "def printFileDataLines(filename):\n",
    "    f=open(filename, 'r') #with open(filename,'r') as f: instead of closing the file\n",
    "    for line in f:\n",
    "        print(line,end=\"\") #end=\"\" it will removes the extra line spaces in output\n",
    "    return\n",
    "    \n",
    "printFileDataLines(filename)\n"
   ]
  },
  {
   "cell_type": "code",
   "execution_count": 43,
   "metadata": {},
   "outputs": [
    {
     "name": "stdout",
     "output_type": "stream",
     "text": [
      "shadbch sbh cbasohdb hcbashbdc\n"
     ]
    }
   ],
   "source": [
    "#Function to write dat into a file\n",
    "\n",
    "def writeIntoFile(filename,filedata):\n",
    "    with open(filename,'w') as f:\n",
    "        f.write(filedata)\n",
    "    return \n",
    "\n",
    "filename = 'DataFiles/data.txt'\n",
    "newdata = input() # here dynamic data is to be inserted by user \n",
    "writeIntoFile(filename,newdata)\n",
    "        \n",
    "        "
   ]
  },
  {
   "cell_type": "code",
   "execution_count": 44,
   "metadata": {},
   "outputs": [
    {
     "name": "stdout",
     "output_type": "stream",
     "text": [
      "ytkdfkj sjdjs pcnjso;cjpqjod7836487rv87y4 87y 3784y7r\n"
     ]
    }
   ],
   "source": [
    "#Function to append data to a file\n",
    "\n",
    "def appendDataToFile(filename,filedata):\n",
    "    with open(filename, 'a') as f:\n",
    "        f.writelines('\\n'+filedata) # Here the Writelines is used for appending the data to be in a new line \n",
    "        \n",
    "    return\n",
    "filename = 'DataFiles/data.txt'\n",
    "newdata = input()\n",
    "appendDataToFile(filename,newdata)"
   ]
  },
  {
   "cell_type": "code",
   "execution_count": null,
   "metadata": {},
   "outputs": [],
   "source": []
  }
 ],
 "metadata": {
  "kernelspec": {
   "display_name": "Python 3",
   "language": "python",
   "name": "python3"
  },
  "language_info": {
   "codemirror_mode": {
    "name": "ipython",
    "version": 3
   },
   "file_extension": ".py",
   "mimetype": "text/x-python",
   "name": "python",
   "nbconvert_exporter": "python",
   "pygments_lexer": "ipython3",
   "version": "3.7.3"
  }
 },
 "nbformat": 4,
 "nbformat_minor": 2
}
