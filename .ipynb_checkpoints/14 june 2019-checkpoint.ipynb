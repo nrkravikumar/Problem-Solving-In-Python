{
 "cells": [
  {
   "cell_type": "markdown",
   "metadata": {},
   "source": [
    "# Python Data Structures\n",
    "\n",
    "### Lists:"
   ]
  },
  {
   "cell_type": "code",
   "execution_count": 120,
   "metadata": {},
   "outputs": [
    {
     "data": {
      "text/plain": [
       "[123, 345, 654, 234, 456, 789]"
      ]
     },
     "execution_count": 120,
     "metadata": {},
     "output_type": "execute_result"
    }
   ],
   "source": [
    "li = [123,978,654]\n",
    "#li # Access the entire list\n",
    "#li[::] #Access the entire list\n",
    "#li[0] # Accessing the particualr position values\n",
    "#Access an element with index in a list\n",
    "#li[1:] # Access all elements from second element\n",
    "#li[-2:] #Access the last 2 elements\n",
    "#li[::-1] #Access the elemnts and it is in revverse order\n",
    "li = li[::-1] #Views in reverse order and the list will be updated\n",
    "li\n",
    "li = li[::-1]\n",
    "li[::2] #Accessing even index elements\n",
    "li[1::-2]\n",
    "\n",
    "\n",
    "#Lists can be accessed manipulated in 2 ways \n",
    "    # Direct Referencing - [Index]\n",
    "    # InDirect Referencing - [Through Functions]\n",
    "    \n",
    "li.append(345)# Adding an element to end of the leap\n",
    "    \n",
    "li.insert(1,234)\n",
    "li.sort()# sort elements in asceding order\n",
    "li.pop()#Remove the last element in a list\n",
    "li.pop(1)#Remove an element at a particular index\n",
    "li2=[234,456,789]\n",
    "#Merge list2 into list1\n",
    "li.extend(li2)\n",
    "sum(li) # Sum of all elements\n",
    "max(li) #Maximum of all elements in a list\n",
    "len(li) #Number(Length) of elements in a list\n",
    "sum(li)/len(li) #Average of list elements\n",
    "sum(li[::2])/len(li[::2]) #Average of all alternative elements at even positions\n",
    "sum(li[1::2])/len(li[1::2]) \n",
    "min(li)\n",
    "li\n",
    "max(li)\n",
    "\n",
    "try:\n",
    "    li.index(123)\n",
    "except:\n",
    "    print(-1)\n",
    "\n",
    "li"
   ]
  },
  {
   "cell_type": "code",
   "execution_count": 87,
   "metadata": {},
   "outputs": [
    {
     "data": {
      "text/plain": [
       "[123, 234, 345, 456, 654, 789]"
      ]
     },
     "execution_count": 87,
     "metadata": {},
     "output_type": "execute_result"
    }
   ],
   "source": [
    "#Function to Identify thesecond largest element in a list\n",
    "\n",
    "#def secondLargest(li):\n",
    "    # li=[]\n",
    "    #n=int(input(\"Enter a size\"))\n",
    "    #for i in range(n):\n",
    "    #    m=int(input(\"Enter the values\"))\n",
    "    #    li.append(m)\n",
    "    #li.sort()\n",
    "    #print(li)\n",
    "    #print(li[-2])\n",
    "\n",
    "def secondLargest(li):\n",
    "    li.sort()\n",
    "    return li[-2]\n",
    "\n",
    "#Function that return the nth largest\n",
    "\n",
    "def genericLargest(li,n):\n",
    "    li.sort()\n",
    "    return li[-n]\n",
    "    \n",
    "    \n",
    "secondLargest(li)\n",
    "genericLargest(li,5)\n",
    "li"
   ]
  },
  {
   "cell_type": "code",
   "execution_count": 124,
   "metadata": {},
   "outputs": [
    {
     "data": {
      "text/plain": [
       "5"
      ]
     },
     "execution_count": 124,
     "metadata": {},
     "output_type": "execute_result"
    }
   ],
   "source": [
    "#Function to Search for a data in a list\n",
    "#SEarch for the key in the list and return the index\n",
    "def linearSearch(li,key):\n",
    "    k=len(li)\n",
    "    for i in range(0,k):\n",
    "        if li[i]==key:\n",
    "            return i\n",
    "    return -1\n",
    "\n",
    "def linearSearch2(li,key):\n",
    "    for element in li:\n",
    "        if element == key:\n",
    "            return li.index(key)\n",
    "    return -1\n",
    "\n",
    "def linearSearch3(li,key):\n",
    "    if key in li:\n",
    "        return li.index(key)\n",
    "    return -1\n",
    "\n",
    "\n",
    "linearSearch(li,789)\n",
    "linearSearch2(li,789)\n",
    "linearSearch3(li,789)"
   ]
  },
  {
   "cell_type": "code",
   "execution_count": 153,
   "metadata": {},
   "outputs": [
    {
     "ename": "NameError",
     "evalue": "name 'ca' is not defined",
     "output_type": "error",
     "traceback": [
      "\u001b[1;31m---------------------------------------------------------------------------\u001b[0m",
      "\u001b[1;31mNameError\u001b[0m                                 Traceback (most recent call last)",
      "\u001b[1;32m<ipython-input-153-e1c95c771df8>\u001b[0m in \u001b[0;36m<module>\u001b[1;34m\u001b[0m\n\u001b[0;32m     26\u001b[0m     \u001b[1;32mreturn\u001b[0m \u001b[0mcount\u001b[0m\u001b[1;33m\u001b[0m\u001b[1;33m\u001b[0m\u001b[0m\n\u001b[0;32m     27\u001b[0m \u001b[1;33m\u001b[0m\u001b[0m\n\u001b[1;32m---> 28\u001b[1;33m \u001b[0mOccurences\u001b[0m\u001b[1;33m(\u001b[0m\u001b[1;34m\"abcabcddcba\"\u001b[0m\u001b[1;33m,\u001b[0m\u001b[1;34m\"ab\"\u001b[0m\u001b[1;33m)\u001b[0m\u001b[1;33m\u001b[0m\u001b[1;33m\u001b[0m\u001b[0m\n\u001b[0m",
      "\u001b[1;32m<ipython-input-153-e1c95c771df8>\u001b[0m in \u001b[0;36mOccurences\u001b[1;34m(s, cha)\u001b[0m\n\u001b[0;32m     22\u001b[0m     \u001b[0mcount\u001b[0m\u001b[1;33m=\u001b[0m\u001b[1;36m0\u001b[0m\u001b[1;33m\u001b[0m\u001b[1;33m\u001b[0m\u001b[0m\n\u001b[0;32m     23\u001b[0m     \u001b[1;32mfor\u001b[0m \u001b[0mi\u001b[0m \u001b[1;32min\u001b[0m \u001b[0mrange\u001b[0m\u001b[1;33m(\u001b[0m\u001b[1;36m0\u001b[0m\u001b[1;33m,\u001b[0m\u001b[0mlen\u001b[0m\u001b[1;33m(\u001b[0m\u001b[0ms\u001b[0m\u001b[1;33m)\u001b[0m\u001b[1;33m)\u001b[0m\u001b[1;33m:\u001b[0m\u001b[1;33m\u001b[0m\u001b[1;33m\u001b[0m\u001b[0m\n\u001b[1;32m---> 24\u001b[1;33m         \u001b[1;32mif\u001b[0m \u001b[0mi\u001b[0m\u001b[1;33m==\u001b[0m\u001b[0mca\u001b[0m \u001b[1;32mand\u001b[0m \u001b[0mi\u001b[0m\u001b[1;33m+\u001b[0m\u001b[1;36m1\u001b[0m \u001b[1;33m==\u001b[0m \u001b[0mca\u001b[0m\u001b[1;33m:\u001b[0m\u001b[1;33m\u001b[0m\u001b[1;33m\u001b[0m\u001b[0m\n\u001b[0m\u001b[0;32m     25\u001b[0m             \u001b[0mcount\u001b[0m\u001b[1;33m+=\u001b[0m\u001b[1;36m1\u001b[0m\u001b[1;33m\u001b[0m\u001b[1;33m\u001b[0m\u001b[0m\n\u001b[0;32m     26\u001b[0m     \u001b[1;32mreturn\u001b[0m \u001b[0mcount\u001b[0m\u001b[1;33m\u001b[0m\u001b[1;33m\u001b[0m\u001b[0m\n",
      "\u001b[1;31mNameError\u001b[0m: name 'ca' is not defined"
     ]
    }
   ],
   "source": [
    "#Function to count the occurances of a character in a list\n",
    "#\"Python Programming\", m -> 2\n",
    "\n",
    "def countCharOccurances(s,c):\n",
    "    count = 0\n",
    "    for ch in s:\n",
    "        if ch==c:\n",
    "            count+=1\n",
    "    return count\n",
    "\n",
    "def countCharOccurances2(s,c):\n",
    "    return s.count(c)\n",
    "\n",
    "countCharOccurances(\"Python Programming\",'m')\n",
    "countCharOccurances2(\"Python Programming\",'in')\n",
    "\n",
    "\n",
    "#Function to find the Occurences of a substring in a string\n",
    "#\"abcabcddcba\",\"ab\" -> 2\n",
    "\n",
    "def Occurences(s,cha):\n",
    "    count=0\n",
    "    for i in range(0,len(s)):\n",
    "        if i==ca and i+1 == ca:\n",
    "            count+=1\n",
    "    return count\n",
    "\n",
    "Occurences(\"abcabcddcba\",\"ab\")"
   ]
  },
  {
   "cell_type": "code",
   "execution_count": null,
   "metadata": {},
   "outputs": [],
   "source": []
  }
 ],
 "metadata": {
  "kernelspec": {
   "display_name": "Python 3",
   "language": "python",
   "name": "python3"
  },
  "language_info": {
   "codemirror_mode": {
    "name": "ipython",
    "version": 3
   },
   "file_extension": ".py",
   "mimetype": "text/x-python",
   "name": "python",
   "nbconvert_exporter": "python",
   "pygments_lexer": "ipython3",
   "version": "3.7.3"
  }
 },
 "nbformat": 4,
 "nbformat_minor": 2
}
