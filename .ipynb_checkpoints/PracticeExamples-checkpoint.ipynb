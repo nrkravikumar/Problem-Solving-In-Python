{
 "cells": [
  {
   "cell_type": "code",
   "execution_count": 2,
   "metadata": {},
   "outputs": [
    {
     "name": "stdout",
     "output_type": "stream",
     "text": [
      "4\n",
      "0 1 2 3 Raju Raju Raju Raju \n"
     ]
    }
   ],
   "source": [
    "# Function for loop \n",
    "\n",
    "def repeat(n):\n",
    "    for i in range(n):\n",
    "        print(i, end=\" \")\n",
    "    k = \"Raju \" * n\n",
    "    print(k)\n",
    "\n",
    "n=int(input())\n",
    "repeat(n)    "
   ]
  },
  {
   "cell_type": "code",
   "execution_count": 20,
   "metadata": {},
   "outputs": [
    {
     "name": "stdout",
     "output_type": "stream",
     "text": [
      "5\n",
      "2 234 34 1 5\n",
      "[2, 234, 34, 1, 5]\n",
      "234\n"
     ]
    }
   ],
   "source": [
    "# Find the Largest number in a list\n",
    "\n",
    "def LargestNum(li):\n",
    "    li=sorted(li)\n",
    "    print(li)\n",
    "    print(li[-1]) # Print(li[len(li)-2])\n",
    "\n",
    "n = int(input())\n",
    "# k=[int(x) for x in input().split()]\n",
    "k=list(map(int,input().split()))\n",
    "print(k)\n",
    "    \n",
    "LargestNum(k)"
   ]
  },
  {
   "cell_type": "code",
   "execution_count": 24,
   "metadata": {},
   "outputs": [
    {
     "name": "stdout",
     "output_type": "stream",
     "text": [
      "5\n",
      "4 7 9 12 1\n",
      "[4, 12]\n",
      "[7, 9, 1]\n"
     ]
    }
   ],
   "source": [
    "# Find the even and odd elements into a two different list\n",
    "\n",
    "def EvenOdd(li):\n",
    "    e=[]\n",
    "    o=[]\n",
    "    for i in range(len(li)):\n",
    "        if li[i]%2 == 0:\n",
    "            e.append(li[i])\n",
    "        else:\n",
    "            o.append(li[i])\n",
    "    print(e)\n",
    "    print(o)\n",
    "    \n",
    "n = int(input())\n",
    "k= list(map(int,input().split()))\n",
    "EvenOdd(k)"
   ]
  },
  {
   "cell_type": "code",
   "execution_count": 37,
   "metadata": {},
   "outputs": [
    {
     "name": "stdout",
     "output_type": "stream",
     "text": [
      "4\n",
      "1 -3 -10 5\n",
      "-2 6 -4 11\n",
      "[1, -3, -10, 5, -2, 6, -4, 11]\n",
      "[-10, -4, -3, -2, 1, 5, 6, 11]\n"
     ]
    }
   ],
   "source": [
    "# Merge 2 lists and sort the list\n",
    "\n",
    "def Mergelist(li,mi):\n",
    "    k = []\n",
    "    k.extend(li+mi)\n",
    "    print(k)\n",
    "    k = sorted(k)\n",
    "    print(k)\n",
    "    \n",
    "n=int(input())\n",
    "l=list(map(int,input().split()))\n",
    "p=list(map(int,input().split()))\n",
    "Mergelist(l,p)"
   ]
  },
  {
   "cell_type": "code",
   "execution_count": 109,
   "metadata": {},
   "outputs": [
    {
     "name": "stdout",
     "output_type": "stream",
     "text": [
      "1\n",
      "40\n",
      "[1, 4, 9, 16, 25, 36]\n"
     ]
    }
   ],
   "source": [
    "#Perfect squares and sum of all digits in number is less than 10\n",
    "# def perfect(x):\n",
    "#     x**2=(x**0.5)\n",
    "def squares(n,m):\n",
    "    l=[]\n",
    "#     l=[x ** 2 for x in range(n,m+1)]\n",
    "    for i in range(n,m):\n",
    "        x = i**2\n",
    "        s = sumAlldigit(x)\n",
    "        if  x <= m and s <= 10:\n",
    "            l.append(x)\n",
    "#             print(x)\n",
    "    return l\n",
    "\n",
    "def sumAlldigit(p):\n",
    "    sum = 0\n",
    "    while p != 0:\n",
    "        sum += p%10\n",
    "        p=p//10\n",
    "    return sum\n",
    "\n",
    "def genericSol(n,m):\n",
    "    print(squares(n,m))\n",
    "    \n",
    "n = int(input())\n",
    "m = int(input())\n",
    "\n",
    "genericSol(n,m)\n",
    "\n"
   ]
  },
  {
   "cell_type": "code",
   "execution_count": 98,
   "metadata": {},
   "outputs": [
    {
     "name": "stdout",
     "output_type": "stream",
     "text": [
      "50.00000000000001\n",
      "5\n"
     ]
    }
   ],
   "source": [
    "print((50**0.5)**2)\n",
    "x=50\n",
    "print(sum(list(map(int,str(x)))))"
   ]
  },
  {
   "cell_type": "code",
   "execution_count": 23,
   "metadata": {},
   "outputs": [
    {
     "name": "stdout",
     "output_type": "stream",
     "text": [
      "[-1, 0, 1, 4, 7, 34, 54]\n"
     ]
    }
   ],
   "source": [
    "li = [1,34,0,-1,4,54,7]\n",
    "# li.sort(reverse=True)\n",
    "# k=\n",
    "# print(li.reverse())\n",
    "# print(li)\n",
    "li.reverse()\n",
    "li.sort()\n",
    "print(li)"
   ]
  },
  {
   "cell_type": "code",
   "execution_count": null,
   "metadata": {},
   "outputs": [],
   "source": []
  }
 ],
 "metadata": {
  "kernelspec": {
   "display_name": "Python 3",
   "language": "python",
   "name": "python3"
  },
  "language_info": {
   "codemirror_mode": {
    "name": "ipython",
    "version": 3
   },
   "file_extension": ".py",
   "mimetype": "text/x-python",
   "name": "python",
   "nbconvert_exporter": "python",
   "pygments_lexer": "ipython3",
   "version": "3.7.3"
  }
 },
 "nbformat": 4,
 "nbformat_minor": 2
}
