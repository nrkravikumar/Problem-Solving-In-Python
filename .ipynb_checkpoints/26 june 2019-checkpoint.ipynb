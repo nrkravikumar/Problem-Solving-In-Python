{
 "cells": [
  {
   "cell_type": "code",
   "execution_count": 49,
   "metadata": {},
   "outputs": [
    {
     "data": {
      "text/plain": [
       "0"
      ]
     },
     "execution_count": 49,
     "metadata": {},
     "output_type": "execute_result"
    }
   ],
   "source": [
    "# Function to find the second largest number in a list\n",
    "\n",
    "def secondLargest(li):\n",
    "    # Convert the list into a unique list\n",
    "    # Complexity for single loop -> O(n), two loops -> O(n2)\n",
    "    unique = []\n",
    "    for n in li:\n",
    "        if n not in unique:\n",
    "            unique.append(n)\n",
    "    #print(unique)\n",
    "    unique = sorted(unique, reverse=True)\n",
    "    #print(unique)\n",
    "    return unique[1]\n",
    "\n",
    "def fifthLeast(li):\n",
    "    unique = []\n",
    "    for n in li:\n",
    "        if n not in unique:\n",
    "            unique.append(n)\n",
    "    #print(unique)\n",
    "    unique = sorted(unique)\n",
    "    if len(unique) > 4:\n",
    "        #print(unique)\n",
    "        return unique[4]\n",
    "    else:\n",
    "        return -1\n",
    "\n",
    "def kLargest(li,k):\n",
    "    unique = []\n",
    "    for n in li:\n",
    "        if n not in unique:\n",
    "            unique.append(n)\n",
    "    #print(unique)\n",
    "    unique = sorted(unique, reverse=True)\n",
    "    if k <= len(unique):\n",
    "        #print(unique)\n",
    "        return unique[k-1]\n",
    "    else:\n",
    "        return -1\n",
    "\n",
    "    \n",
    "def kSmallest(li,k):\n",
    "    if len(li) <= 0:\n",
    "        return 0\n",
    "    else:\n",
    "        unique = []\n",
    "        for n in li:\n",
    "            if n not in unique:\n",
    "                unique.append(n)\n",
    "        #print(unique)\n",
    "        unique = sorted(unique)\n",
    "        if k <= len(unique):\n",
    "            #print(unique)\n",
    "            return unique[k-1]\n",
    "        else:\n",
    "            return -1\n",
    "#secondLargest([1,4,6,1,7,9,0,6,4])\n",
    "#fifthLeast([1,4,6,1,7,9,0,6,4])\n",
    "#kLargest([1,4,6,1,7,9,0,6,4],1)\n",
    "kSmallest([],0)"
   ]
  },
  {
   "cell_type": "code",
   "execution_count": 70,
   "metadata": {},
   "outputs": [
    {
     "name": "stdout",
     "output_type": "stream",
     "text": [
      "{1: 2, 2: 2, 3: 2, 9: 1, 8: 1, 7: 1, 4: 1}\n"
     ]
    },
    {
     "data": {
      "text/plain": [
       "1"
      ]
     },
     "execution_count": 70,
     "metadata": {},
     "output_type": "execute_result"
    }
   ],
   "source": [
    "# Function to identify the element with the highest frequency\n",
    "# If many elements have the highest frequency, return the smallest element\n",
    "# highestFrequencyElement([1,2,3,9,8,7,3,4,2,1]) -> 1\n",
    "def highestFrequencyElement(li):\n",
    "    # Extracting unique elements with frequencies\n",
    "    unique = {}\n",
    "    for n in li:\n",
    "        if n in unique:\n",
    "            unique[n] += 1\n",
    "        else:\n",
    "            unique[n] = 1\n",
    "    print(unique)        \n",
    "    # Getting all Frequencies into a list\n",
    "    freq = unique.values()\n",
    "    maxfreq = max(freq)\n",
    "    maxfreqE = []\n",
    "    # print(maxfreq)\n",
    "    # Identify the smallest number with maximum frequency\n",
    "    for item in unique.items():\n",
    "        if item[1] == maxfreq:\n",
    "            maxfreqE.append(item[0])\n",
    "     # Select the minimum from the keys with maximum frequency       \n",
    "    return min(maxfreqE) # minfreqE[k-1]\n",
    "    #maxfreqE = max(sorted(maxfreqE,reverse=True))\n",
    "    #return maxfreqE[3-1]\n",
    "highestFrequencyElement([1,2,3,9,8,7,3,4,2,1])\n",
    "    "
   ]
  },
  {
   "cell_type": "code",
   "execution_count": 72,
   "metadata": {},
   "outputs": [
    {
     "name": "stdout",
     "output_type": "stream",
     "text": [
      "{1: 2, 2: 2, 3: 2, 9: 1, 8: 1, 7: 1, 4: 1}\n"
     ]
    }
   ],
   "source": [
    "# Function to identify the element with the highest frequency\n",
    "# If many elements have the highest frequency, return the smallest element\n",
    "# highestFrequencyElement([1,2,3,9,8,7,3,4,2,1]) -> 1\n",
    "def highestFrequencyElement(li):\n",
    "    # Extracting unique elements with frequencies\n",
    "    unique = {}\n",
    "    for n in li:\n",
    "        if n in unique:\n",
    "            unique[n] += 1\n",
    "        else:\n",
    "            unique[n] = 1\n",
    "    print(unique)\n",
    "    maxfeq = max(unique.values())\n",
    "    # Extract all keys with maxfreq in a list\n",
    "    maxfreqkeys =[]\n",
    "    for item in unique.items():\n",
    "        # item -> (key, value)\n",
    "        # item[1] -> value\n",
    "        \n",
    "    \n",
    "highestFrequencyElement([1,2,3,9,8,7,3,4,2,1])   "
   ]
  },
  {
   "cell_type": "code",
   "execution_count": null,
   "metadata": {},
   "outputs": [],
   "source": []
  }
 ],
 "metadata": {
  "kernelspec": {
   "display_name": "Python 3",
   "language": "python",
   "name": "python3"
  },
  "language_info": {
   "codemirror_mode": {
    "name": "ipython",
    "version": 3
   },
   "file_extension": ".py",
   "mimetype": "text/x-python",
   "name": "python",
   "nbconvert_exporter": "python",
   "pygments_lexer": "ipython3",
   "version": "3.7.3"
  }
 },
 "nbformat": 4,
 "nbformat_minor": 2
}
