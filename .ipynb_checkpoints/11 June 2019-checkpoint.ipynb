{
 "cells": [
  {
   "cell_type": "markdown",
   "metadata": {},
   "source": [
    "# Notebook Basics\n",
    "\n",
    "### Markdown Basics"
   ]
  },
  {
   "cell_type": "markdown",
   "metadata": {},
   "source": [
    "**Raju** <br>\n",
    "*Italic* <br>\n",
    "***Bolditalic*** <br>\n",
    "\n",
    "* **Bold**\n",
    "* **Italic**\n",
    "* ***Bold Italic***\n",
    "\n",
    "* Normal text\n",
    "    * Sublist 1\n",
    "    * Sublist 2\n",
    "    \n",
    "    \n",
    "1. Ordered list element1\n",
    "2. Ordered list element2\n",
    "\n",
    "<img src=\"logo.jpg\" height=\"350px\" width=\"550px\" align=\"left\">\n",
    "\n",
    "\n",
    "\n",
    "![logo](logo.jpg)\n",
    "\n",
    "\n",
    "\n",
    "[logoname](logo.jpg)\n",
    "\n",
    "\n",
    "\n",
    "- [ ] Option1\n",
    "- [ ] Option2\n",
    "- [x] Option3\n",
    "\n",
    "\n",
    "\n",
    "\n",
    "\n",
    "I get 10 times more traffic from [Google][] than from\n",
    "[Yahoo][] or [MSN][].\n",
    "\n",
    "  [google]: http://google.com/        \"Google\"\n",
    "  [yahoo]:  http://search.yahoo.com/  \"Yahoo Search\"\n",
    "  [msn]:    http://search.msn.com/    \"MSN Search\"\n",
    "\n",
    "\n",
    "\n",
    "`printf(\"Hello\")`\n",
    "\n",
    "\n",
    "<http://google.com/>\n",
    "\n",
    "<rravikumar34@gmail.com>"
   ]
  },
  {
   "cell_type": "markdown",
   "metadata": {},
   "source": [
    "# Python Basics:\n",
    "\n",
    "Python Version 3.7\n",
    "\n",
    "- Scripting\n",
    "- Object Oriented\n",
    "- Functional "
   ]
  },
  {
   "cell_type": "code",
   "execution_count": 5,
   "metadata": {},
   "outputs": [
    {
     "name": "stdout",
     "output_type": "stream",
     "text": [
      "Hello Good Afternoon !\n",
      "Hello Python\n",
      "Hello Raju\n",
      "Raju ! Kiran\n"
     ]
    }
   ],
   "source": [
    "# Python Comments\n",
    "\n",
    "print(\"Hello Good Afternoon !\") # Basic Output\n",
    "print(\"Hello Python\") # the upper and lower stmnts are printed\n",
    "print(\"Hello\",\"Raju\") # Here the single space is to be occupied\n",
    "print(\"Raju\",\"!\",end=\" \") # Here we can get the first and other stmnt by using side-by-side \n",
    "#we are using end what ever it may be the character is to be used for dividing the string in end\n",
    "print(\"Kiran\")"
   ]
  },
  {
   "cell_type": "code",
   "execution_count": null,
   "metadata": {},
   "outputs": [],
   "source": []
  },
  {
   "cell_type": "markdown",
   "metadata": {},
   "source": [
    "### Assignment"
   ]
  },
  {
   "cell_type": "code",
   "execution_count": 13,
   "metadata": {},
   "outputs": [
    {
     "name": "stdout",
     "output_type": "stream",
     "text": [
      "123 234 345\n"
     ]
    }
   ],
   "source": [
    "n1=123456 #Single Variable Assignment\n",
    "\n",
    "n2 = n3 = n4 = n1 #Multi Variable Assignment of the value\n",
    "\n",
    "a, b, c = 123, 234, 345 #Multi Variable Assignment with different Value\n",
    "\n",
    "print(a, b, c)"
   ]
  },
  {
   "cell_type": "code",
   "execution_count": null,
   "metadata": {},
   "outputs": [],
   "source": []
  },
  {
   "cell_type": "markdown",
   "metadata": {},
   "source": [
    "### Data Types & Conversions\n",
    "   - int\n",
    "   - float\n",
    "   - string\n",
    "   - double"
   ]
  },
  {
   "cell_type": "code",
   "execution_count": 57,
   "metadata": {},
   "outputs": [
    {
     "data": {
      "text/plain": [
       "12.0"
      ]
     },
     "execution_count": 57,
     "metadata": {},
     "output_type": "execute_result"
    }
   ],
   "source": [
    "type(a)\n",
    "s1 = \"Python\"\n",
    "type(s1)\n",
    "\n",
    "f1 = 12.345\n",
    "type(f1)\n",
    "\n",
    "float(str(int(f1)))"
   ]
  },
  {
   "cell_type": "code",
   "execution_count": null,
   "metadata": {},
   "outputs": [],
   "source": []
  },
  {
   "cell_type": "markdown",
   "metadata": {},
   "source": [
    "### Arthmetic Operations\n",
    "\n",
    "- +\n",
    "- -\n",
    "- *\n",
    "- /\n",
    "- %\n",
    "- **"
   ]
  },
  {
   "cell_type": "code",
   "execution_count": 44,
   "metadata": {},
   "outputs": [
    {
     "name": "stdout",
     "output_type": "stream",
     "text": [
      "<class 'int'>\n",
      "628578\n",
      "83\n",
      "<class 'str'>\n",
      "10000000000000000000000000000000000000000000000000000000000000000000000000000000000\n"
     ]
    }
   ],
   "source": [
    "n1 % 11\n",
    "n3 = n2 ** 123456\n",
    "print(type(n3))\n",
    "print(len(str((n3)))) #len (str(n3)))\n",
    "n3\n",
    "\n",
    "\n",
    "\n",
    "\n",
    "atoms=10 ** 82\n",
    "print(len(str(atoms)))\n",
    "print(type(str(atoms)))\n",
    "print(atoms)"
   ]
  },
  {
   "cell_type": "code",
   "execution_count": null,
   "metadata": {},
   "outputs": [],
   "source": []
  },
  {
   "cell_type": "markdown",
   "metadata": {},
   "source": [
    "### Conditionals\n",
    "\n"
   ]
  },
  {
   "cell_type": "code",
   "execution_count": 66,
   "metadata": {},
   "outputs": [
    {
     "name": "stdout",
     "output_type": "stream",
     "text": [
      "False\n"
     ]
    }
   ],
   "source": [
    "if atoms < 10 ** 9:\n",
    "    print(\"True\")\n",
    "else:\n",
    "    print(\"False\")"
   ]
  },
  {
   "cell_type": "code",
   "execution_count": 1,
   "metadata": {},
   "outputs": [
    {
     "name": "stdout",
     "output_type": "stream",
     "text": [
      "Odd\n"
     ]
    }
   ],
   "source": [
    "#check whether if a number is even or odd\n",
    "n=123\n",
    "if n % 2 == 0:\n",
    "    print(\"Even\")\n",
    "else:\n",
    "    print(\"Odd\")"
   ]
  },
  {
   "cell_type": "code",
   "execution_count": 3,
   "metadata": {},
   "outputs": [
    {
     "name": "stdout",
     "output_type": "stream",
     "text": [
      "Enter the first number: 1234\n",
      "Enter the second number: 567899\n",
      "Enter the third number: -1\n",
      "567899 is the greatest\n"
     ]
    }
   ],
   "source": [
    "#Find the greatest of 3 numbers\n",
    "n1 = int(input(\"Enter the first number: \"))\n",
    "n2 = int(input(\"Enter the second number: \"))\n",
    "n3 = int(input(\"Enter the third number: \"))\n",
    "if n1 > n2 and n1 > n3:\n",
    "    print(n1,\"is the greatest\")\n",
    "elif n2 > n3:\n",
    "    print(n2,\"is the greatest\")\n",
    "else:\n",
    "    print(n3,\"is the greatest\")"
   ]
  },
  {
   "cell_type": "code",
   "execution_count": 7,
   "metadata": {},
   "outputs": [
    {
     "name": "stdout",
     "output_type": "stream",
     "text": [
      "Enter an year2020\n",
      "2020 is a leap year\n"
     ]
    }
   ],
   "source": [
    "#Check if a year is a Leap year\n",
    "n=int(input(\"Enter an year\"))\n",
    "if n%400==0 or n%100!=0 and n%4==0:\n",
    "    print(n,\"is a leap year\")\n",
    "else:\n",
    "    print(n,\"is not a leap year\")"
   ]
  },
  {
   "cell_type": "code",
   "execution_count": 11,
   "metadata": {},
   "outputs": [
    {
     "name": "stdout",
     "output_type": "stream",
     "text": [
      "Enter a number: 134\n",
      "Enter a lower range: 23\n",
      "Enter a upper range: 50\n",
      "False\n"
     ]
    }
   ],
   "source": [
    "#Check if a number exists in a given range\n",
    "n=int(input(\"Enter a number: \"))\n",
    "lb=int(input(\"Enter a lower range: \"))\n",
    "up=int(input(\"Enter a upper range: \"))\n",
    "if n<=up and n>=lb:\n",
    "    print(\"True\")\n",
    "else:\n",
    "    print(\"False\")"
   ]
  },
  {
   "cell_type": "code",
   "execution_count": 13,
   "metadata": {},
   "outputs": [
    {
     "name": "stdout",
     "output_type": "stream",
     "text": [
      "Enter a number1234\n",
      "4\n"
     ]
    }
   ],
   "source": [
    "#Calculate the number of digits in a number\n",
    "n=input(\"Enter a number\")\n",
    "print(int(len(n)))"
   ]
  },
  {
   "cell_type": "code",
   "execution_count": 15,
   "metadata": {},
   "outputs": [
    {
     "name": "stdout",
     "output_type": "stream",
     "text": [
      "Enter a number 23\n",
      "23 is not a multiple of 10\n"
     ]
    }
   ],
   "source": [
    "#check if a number is multiple of 10\n",
    "n=int(input(\"Enter a number \"))\n",
    "if n%10==0:\n",
    "    print(n,\"is a multiple of 10\")\n",
    "else:\n",
    "    print(n,\"is not a multiple of 10\")"
   ]
  },
  {
   "cell_type": "code",
   "execution_count": 17,
   "metadata": {},
   "outputs": [
    {
     "name": "stdout",
     "output_type": "stream",
     "text": [
      "Enter a number: 1000\n",
      "1000 is a factor of 1000\n"
     ]
    }
   ],
   "source": [
    "#Check if a number is a factor of 1000\n",
    "n=int(input(\"Enter a number: \"))\n",
    "if 1000%n==0:\n",
    "    print(n,\"is a factor of 1000\")\n",
    "else:\n",
    "    print(n,\"is not a factor of 1000\")"
   ]
  },
  {
   "cell_type": "code",
   "execution_count": 28,
   "metadata": {},
   "outputs": [
    {
     "name": "stdout",
     "output_type": "stream",
     "text": [
      "Enter a number: 3\n",
      "3 is equal to a number\n"
     ]
    }
   ],
   "source": [
    "#Check if a given string is equal to a number\n",
    "n=input(\"Enter a number: \")\n",
    "if int(n)==int(str(n)):\n",
    "    print(n,\"is equal to a number\")\n",
    "else:\n",
    "    print(n,\"is not equal to a number\")\n",
    "\n",
    "    \n",
    "    \n",
    "s1=\"1234\"\n",
    "n=1234\n",
    "if str(n) == s1:\n",
    "    print(n,\"is equal to\",s1)\n",
    "else:\n",
    "    print(n,\"is not equal to\",s1)"
   ]
  },
  {
   "cell_type": "code",
   "execution_count": 34,
   "metadata": {},
   "outputs": [
    {
     "name": "stdout",
     "output_type": "stream",
     "text": [
      "Enter a number to find the square root: 8\n",
      "2.8284271247461903\n"
     ]
    }
   ],
   "source": [
    "#Calculate the Square root of a number without using functions\n",
    "n=int(input(\"Enter a number to find the square root: \"))\n",
    "print(n**0.5)"
   ]
  },
  {
   "cell_type": "code",
   "execution_count": 40,
   "metadata": {},
   "outputs": [
    {
     "name": "stdout",
     "output_type": "stream",
     "text": [
      "31536000000000000\n"
     ]
    }
   ],
   "source": [
    "#Calculate the number of nano seconds in a given year(considering leap year logic)\n",
    "year=2019\n",
    "if year%400==0 or year%100!=0 and year%4==0:\n",
    "    print(366 * 24 * 60 * 60 * (10**9))\n",
    "else:\n",
    "    print(365 * 24 * 60 * 60 * (10**9))"
   ]
  },
  {
   "cell_type": "code",
   "execution_count": null,
   "metadata": {},
   "outputs": [],
   "source": []
  },
  {
   "cell_type": "markdown",
   "metadata": {},
   "source": [
    "# Sample example on the string"
   ]
  },
  {
   "cell_type": "markdown",
   "metadata": {},
   "source": [
    "## Testing File on to Git Hub"
   ]
  },
  {
   "cell_type": "code",
   "execution_count": null,
   "metadata": {},
   "outputs": [],
   "source": []
  }
 ],
 "metadata": {
  "kernelspec": {
   "display_name": "Python 3",
   "language": "python",
   "name": "python3"
  },
  "language_info": {
   "codemirror_mode": {
    "name": "ipython",
    "version": 3
   },
   "file_extension": ".py",
   "mimetype": "text/x-python",
   "name": "python",
   "nbconvert_exporter": "python",
   "pygments_lexer": "ipython3",
   "version": "3.7.3"
  }
 },
 "nbformat": 4,
 "nbformat_minor": 2
}
