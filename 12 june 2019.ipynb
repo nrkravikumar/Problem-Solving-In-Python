{
 "cells": [
  {
   "cell_type": "markdown",
   "metadata": {},
   "source": [
    "# String Slicing:"
   ]
  },
  {
   "cell_type": "markdown",
   "metadata": {},
   "source": [
    "# Functions:"
   ]
  },
  {
   "cell_type": "markdown",
   "metadata": {},
   "source": [
    "# Iterations:"
   ]
  },
  {
   "cell_type": "code",
   "execution_count": 2,
   "metadata": {},
   "outputs": [
    {
     "name": "stdout",
     "output_type": "stream",
     "text": [
      "6 12 18 24 30 36 42 48 54 60 66 72 78 84 90 96 102 108 114 120 126 "
     ]
    }
   ],
   "source": [
    "#Function to print all numbers divisible by 6 and not a factor of 100 in a given range(lb, ub) inclusive\n",
    "\n",
    "def divi6(lb,up):\n",
    "    for i in range(lb,up+1):\n",
    "        if i%6==0 and 100%i!=0:\n",
    "            print(i,end=\" \")\n",
    "    return\n",
    "\n",
    "divi6(1,130)"
   ]
  },
  {
   "cell_type": "code",
   "execution_count": 5,
   "metadata": {},
   "outputs": [
    {
     "name": "stdout",
     "output_type": "stream",
     "text": [
      "36.0\n"
     ]
    }
   ],
   "source": [
    "#Function to find the average of cubes of all even numbers in a given range(lb, ub) inclusive\n",
    "\n",
    "def avgEve(lb,up):\n",
    "    cu=sum=co=0\n",
    "    for i in range(lb,up+1):\n",
    "        if i%2==0:\n",
    "            cu=i**3\n",
    "            sum +=cu\n",
    "            co+=1\n",
    "            #print(cu,end=\" \")\n",
    "    print(sum/co)\n",
    "\n",
    "avgEve(1,5)"
   ]
  },
  {
   "cell_type": "code",
   "execution_count": 10,
   "metadata": {},
   "outputs": [
    {
     "name": "stdout",
     "output_type": "stream",
     "text": [
      "1 2 3 4 6 12 "
     ]
    }
   ],
   "source": [
    "#Function to generate the list of factors for a given number\n",
    "\n",
    "def factlist(n):\n",
    "    for i in range(1,n+1):\n",
    "        if n%i==0:\n",
    "            print(i,end=\" \")\n",
    "    return\n",
    "\n",
    "factlist(12)"
   ]
  },
  {
   "cell_type": "code",
   "execution_count": 11,
   "metadata": {},
   "outputs": [
    {
     "name": "stdout",
     "output_type": "stream",
     "text": [
      "120\n"
     ]
    }
   ],
   "source": [
    "#Function to calculate the factorial of a given number\n",
    "\n",
    "def factorial(n):\n",
    "    fact=1\n",
    "    for i in range(2,n+1):\n",
    "        fact *=i\n",
    "    print(fact)\n",
    "\n",
    "factorial(5)"
   ]
  },
  {
   "cell_type": "code",
   "execution_count": 31,
   "metadata": {},
   "outputs": [
    {
     "data": {
      "text/plain": [
       "1"
      ]
     },
     "execution_count": 31,
     "metadata": {},
     "output_type": "execute_result"
    }
   ],
   "source": [
    "#Function to check if a given number is Prime\n",
    "\n",
    "def isPrime(n):\n",
    "    flag=1\n",
    "    for i in range(2, n//2):\n",
    "        if n%i==0:\n",
    "            flag=0\n",
    "            return flag\n",
    "        else:\n",
    "            return flag\n",
    "\n",
    "        \n",
    "isPrime(19)\n"
   ]
  },
  {
   "cell_type": "code",
   "execution_count": null,
   "metadata": {},
   "outputs": [],
   "source": [
    "#Function to calculate the average first N Prime numbers"
   ]
  },
  {
   "cell_type": "code",
   "execution_count": null,
   "metadata": {},
   "outputs": [],
   "source": [
    "#Function to generate all Perfect numbers in a given range"
   ]
  },
  {
   "cell_type": "code",
   "execution_count": 36,
   "metadata": {},
   "outputs": [
    {
     "name": "stdout",
     "output_type": "stream",
     "text": [
      "20 19 18 17 16 15 14 13 12 11 10 "
     ]
    }
   ],
   "source": [
    "#Function to print reverse of numbers in a given range\n",
    "\n",
    "def reno(up,lw):\n",
    "    for i in range(up,lw-1,-1):\n",
    "        print(i,end=\" \")\n",
    "    \n",
    "reno(20,10)\n",
    "    "
   ]
  },
  {
   "cell_type": "code",
   "execution_count": 42,
   "metadata": {},
   "outputs": [
    {
     "data": {
      "text/plain": [
       "15150"
      ]
     },
     "execution_count": 42,
     "metadata": {},
     "output_type": "execute_result"
    }
   ],
   "source": [
    "#Function to calculate the sum of numbers in a range\n",
    "\n",
    "def SumRange(start,end):\n",
    "    sum=0\n",
    "    for i in range(start,end+1):\n",
    "        sum+=i\n",
    "    return sum\n",
    "\n",
    "SumRange(100,200)"
   ]
  },
  {
   "cell_type": "code",
   "execution_count": 40,
   "metadata": {},
   "outputs": [
    {
     "name": "stdout",
     "output_type": "stream",
     "text": [
      "9 7 5 3 "
     ]
    }
   ],
   "source": [
    "#Fucntion to print the odd numbers in reverse order\n",
    "\n",
    "def Oddrev(up,lw):\n",
    "    for i in range(up,lw,-1):\n",
    "        if i%2!=0:\n",
    "            print(i,end=\" \")\n",
    "\n",
    "Oddrev(10,1)"
   ]
  },
  {
   "cell_type": "code",
   "execution_count": 41,
   "metadata": {},
   "outputs": [
    {
     "name": "stdout",
     "output_type": "stream",
     "text": [
      "28 27 26 25 24 23 22 21 "
     ]
    }
   ],
   "source": [
    "#Function to print reverse of given range in same line\n",
    "\n",
    "def RevLi(start,end):\n",
    "    for i in range(start,end,-1):\n",
    "        print(i,end=\" \")\n",
    "        \n",
    "RevLi(28,20)"
   ]
  },
  {
   "cell_type": "code",
   "execution_count": 55,
   "metadata": {},
   "outputs": [
    {
     "data": {
      "text/plain": [
       "3000.0"
      ]
     },
     "execution_count": 55,
     "metadata": {},
     "output_type": "execute_result"
    }
   ],
   "source": [
    "# Function to Calculate the average of all numbers in a given range\n",
    "\n",
    "def Avgall(start,end):\n",
    "    #sum=co=0\n",
    "    sum=0\n",
    "    for i in range(start,end+1):\n",
    "        sum += i # Sum calculation\n",
    "        #print(i)\n",
    "        #co+=1 Counting Number of Values\n",
    "    return sum/(end-start+1) # sum/count if count is using\n",
    "\n",
    "Avgall(1000,5000)"
   ]
  },
  {
   "cell_type": "code",
   "execution_count": 64,
   "metadata": {},
   "outputs": [
    {
     "name": "stdout",
     "output_type": "stream",
     "text": [
      "2000 2004 2008 2012 2016 2020 "
     ]
    }
   ],
   "source": [
    "#Function to generate the leap year in a given time period\n",
    "def Leaptime(lw,up):\n",
    "    for i in range(lw,up+1):\n",
    "        if i%400==0 or i%100!=0 and i%4==0:\n",
    "            print(i,end=\" \")\n",
    "    return\n",
    "\n",
    "Leaptime(2000,2020)"
   ]
  },
  {
   "cell_type": "code",
   "execution_count": 87,
   "metadata": {},
   "outputs": [
    {
     "name": "stdout",
     "output_type": "stream",
     "text": [
      "1920 1924 1928 1932 1936 1940 1944 1948 1952 1956 1960 1964 1968 1972 1976 1980 1984 1988 1992 1996 2000 2004 2008 2012 2016 "
     ]
    }
   ],
   "source": [
    "#Function with different functions as isleapyear and generating Leapyear\n",
    "def isLeapYear(year):\n",
    "    if year%400==0 or year%100!=0 and year%4==0:\n",
    "        return 1\n",
    "    return 0\n",
    "\n",
    "def generateLeapYears(startyear,endyear):\n",
    "    for i in range(startyear,endyear+1):\n",
    "        if isLeapYear(i):\n",
    "            print(i,end=\" \")\n",
    "    return\n",
    "generateLeapYears(1919,2019)"
   ]
  },
  {
   "cell_type": "code",
   "execution_count": 106,
   "metadata": {},
   "outputs": [
    {
     "data": {
      "text/plain": [
       "9131"
      ]
     },
     "execution_count": 106,
     "metadata": {},
     "output_type": "execute_result"
    }
   ],
   "source": [
    "#Calculate the number of days in a given time period using Leapyear Logic\n",
    "\n",
    "def numberOfDays(startyear,endyear):\n",
    "    sum=0\n",
    "    for i in range(startyear,endyear+1):\n",
    "        if isLeapYear(i):\n",
    "            sum+=366\n",
    "        else:\n",
    "            sum+=365\n",
    "    return sum\n",
    "numberOfDays(1975,1999)\n",
    "    "
   ]
  },
  {
   "cell_type": "code",
   "execution_count": 85,
   "metadata": {},
   "outputs": [],
   "source": [
    "#Function to calculate number of hours\n",
    "#numberOfHours(11, 1975, 3,1999) -> \n",
    "#numberOfHours(5, 2019, 6, 2019) -> 1464\n",
    "# 2, 2017, 6, 2019\n",
    "# [all days from feb 2016 to dec 2016, all days for years between 2016+1 and 2019-1 all days from Jan to June 2019]\n",
    "#No of hours = 24 * No of days\n",
    "#3 Steps:\n",
    "    #1. Start month year to end of year - Calculate no of years\n",
    "    #2. Calculate days for all years between start year\n",
    "            #2017,2018 - 365 * no of years\n",
    "    #3. Calculate days from Jan to end month year\n",
    "#Excluding Feb\n",
    "#First Six months - 1, 3, 4, 5, 6, 7 -> 31 days\n",
    "    #All Odd months have 31 days\n",
    "    #All Even months have 30 days\n",
    "#Last Six months - 8, 9, 10, 11, 12\n",
    "    #All Even months have 31 days\n",
    "    #All Odd months have 30 days\n",
    "# 31 days - (month <=7 and month %2!=0 and month != 2) || (month >=8 and month)\n",
    "    # return 31"
   ]
  },
  {
   "cell_type": "code",
   "execution_count": 114,
   "metadata": {},
   "outputs": [
    {
     "data": {
      "text/plain": [
       "205248"
      ]
     },
     "execution_count": 114,
     "metadata": {},
     "output_type": "execute_result"
    }
   ],
   "source": [
    "def numberOfDaysMonth(month,year):\n",
    "    if month==2:\n",
    "        if isLeapYear(year):\n",
    "            return 29\n",
    "        return 28\n",
    "    elif (month<=7 and month%2!=0) or (month>=8 and month%2==0):\n",
    "        return 31\n",
    "    else:\n",
    "        return 30\n",
    "\n",
    "def daysInStartYear(startmonth,startyear):\n",
    "    days=0\n",
    "    for month in range(startmonth,13):\n",
    "        days +=numberOfDaysMonth(month,startyear)\n",
    "    return days\n",
    "\n",
    "def daysInEndYear(endmonth,endyear):\n",
    "    days=0\n",
    "    for month in range(1,endmonth+1):\n",
    "        days +=numberOfDaysMonth(month,endyear)\n",
    "    return days\n",
    "\n",
    "def numberOfHours(startmonth,startyear,endmonth,endyear):\n",
    "    days=0\n",
    "    if startyear!=endyear:\n",
    "        days+=daysInStartYear(startmonth,startyear)\n",
    "        days+=daysInEndYear(endmonth,endyear)\n",
    "        if endyear-startyear == 2: #2019-2017 \n",
    "            days+=numberOfDays(startyear+1,startyear+1)\n",
    "        elif endyear-startyear > 2:\n",
    "            days+=numberOfDays(startyear+1,endyear-1)\n",
    "    else:\n",
    "        for month in range(startmonth,endmonth+1):\n",
    "            days+=numberOfDaysMonth(month,startyear)\n",
    "    return 24*days\n",
    "#daysInStartYear(1,2020)\n",
    "#daysInEndYear(6,2019)\n",
    "#numberOfHours(6,2018,7,2018)\n",
    "numberOfHours(11,1975,3,1999)"
   ]
  },
  {
   "cell_type": "code",
   "execution_count": null,
   "metadata": {},
   "outputs": [],
   "source": []
  }
 ],
 "metadata": {
  "kernelspec": {
   "display_name": "Python 3",
   "language": "python",
   "name": "python3"
  },
  "language_info": {
   "codemirror_mode": {
    "name": "ipython",
    "version": 3
   },
   "file_extension": ".py",
   "mimetype": "text/x-python",
   "name": "python",
   "nbconvert_exporter": "python",
   "pygments_lexer": "ipython3",
   "version": "3.7.3"
  }
 },
 "nbformat": 4,
 "nbformat_minor": 2
}
