{
 "cells": [
  {
   "cell_type": "code",
   "execution_count": 8,
   "metadata": {},
   "outputs": [],
   "source": [
    "# Fucntion to encrypt a data file\n",
    "\n",
    "datafile =  'DataFiles/marks1.txt'\n",
    "keyfile = 'DataFiles/key.txt'\n",
    "datafile1 =  'DataFiles/encryptedMarks.txt'\n",
    "\n",
    "def dictionaryKeyFile(keyfile):\n",
    "    key = {}\n",
    "    with open(keyfile,'r') as f:\n",
    "        for line in f:\n",
    "            line = line.split()\n",
    "            key[line[0]] = line[1]\n",
    "    return key\n",
    "    \n",
    "def encryptMarksData(datafile, keyfile):\n",
    "    # construct a dictionary for key data\n",
    "    key = dictionaryKeyFile(keyfile)\n",
    "    with open(datafile,'r') as f:\n",
    "        filedata = f.read().split(\"\\n\")\n",
    "    with open('DataFiles/encryptedMarks.txt','w') as f:\n",
    "        for mark in filedata:\n",
    "            line = ''\n",
    "            for n in mark:\n",
    "                line+=key[n]\n",
    "            f.write(line+\"\\n\")\n",
    "    return\n",
    "\n",
    "def decryptMarksData(datafile1,keyfile):\n",
    "    key = dictionaryKeyFile(keyfile)\n",
    "#     key = key.items()\n",
    "    newkey = {}\n",
    "    for key, value in key.items():\n",
    "        newkey[value] = key\n",
    "    with open(datafile1,'r') as f:\n",
    "        filedata = f.read().split(\"\\n\")\n",
    "    with open('DataFiles/decryptedMarks.txt','w') as f:\n",
    "        for mark in filedata:\n",
    "            line = \"\"\n",
    "            for j in mark:\n",
    "                line+=newkey[j]\n",
    "            f.write(line + \"\\n\")\n",
    "    return\n",
    "dictionaryKeyFile(keyfile)\n",
    "encryptMarksData(datafile, keyfile)\n",
    "decryptMarksData(datafile1,keyfile)"
   ]
  },
  {
   "cell_type": "code",
   "execution_count": null,
   "metadata": {},
   "outputs": [],
   "source": []
  }
 ],
 "metadata": {
  "kernelspec": {
   "display_name": "Python 3",
   "language": "python",
   "name": "python3"
  },
  "language_info": {
   "codemirror_mode": {
    "name": "ipython",
    "version": 3
   },
   "file_extension": ".py",
   "mimetype": "text/x-python",
   "name": "python",
   "nbconvert_exporter": "python",
   "pygments_lexer": "ipython3",
   "version": "3.7.3"
  }
 },
 "nbformat": 4,
 "nbformat_minor": 2
}
