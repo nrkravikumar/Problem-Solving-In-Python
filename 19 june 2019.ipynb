{
 "cells": [
  {
   "cell_type": "markdown",
   "metadata": {},
   "source": [
    "# Hackerearth Problems:"
   ]
  },
  {
   "cell_type": "markdown",
   "metadata": {},
   "source": [
    "### Two Strings:\n"
   ]
  },
  {
   "cell_type": "markdown",
   "metadata": {},
   "source": [
    "\n",
    "3                           \n",
    "sumit mitsu                YES\n",
    "ambuj jumba                YES\n",
    "abhi hibb                  NO"
   ]
  },
  {
   "cell_type": "code",
   "execution_count": 31,
   "metadata": {},
   "outputs": [
    {
     "name": "stdout",
     "output_type": "stream",
     "text": [
      "1\n",
      "abhi hibb\n",
      "[1, 1, 1, 1]\n"
     ]
    }
   ],
   "source": [
    "#Print the two strings:\n",
    "\n",
    "def twostring(s1,s2):\n",
    "    '''l=[]\n",
    "    m=[]\n",
    "    count=0\n",
    "    for i in s1:\n",
    "        l.append(i)\n",
    "    print(l)\n",
    "    for i in s2:\n",
    "        m.append(i)\n",
    "    print(m)\n",
    "    for i in l:\n",
    "        for j in m:\n",
    "            if l in j:\n",
    "                count+=1\n",
    "    print(count)'''\n",
    "    l=[]\n",
    "    count=0\n",
    "    for i in s1:\n",
    "        count=0\n",
    "        for j in i:\n",
    "            if i == j:\n",
    "                count+=1\n",
    "                if count>1:\n",
    "                    count+=1\n",
    "                    break\n",
    "            l.append(count)\n",
    "    print(l)\n",
    "        \n",
    "\n",
    "n=int(input())\n",
    "for i in range(n):\n",
    "    s=input()\n",
    "    s=s.split()\n",
    "    k=s[0]\n",
    "    p=s[1]\n",
    "    twostring(k,p)\n",
    "\n",
    "\n",
    "\n",
    "\n",
    "\n",
    "\n"
   ]
  },
  {
   "cell_type": "code",
   "execution_count": null,
   "metadata": {},
   "outputs": [],
   "source": []
  }
 ],
 "metadata": {
  "kernelspec": {
   "display_name": "Python 3",
   "language": "python",
   "name": "python3"
  },
  "language_info": {
   "codemirror_mode": {
    "name": "ipython",
    "version": 3
   },
   "file_extension": ".py",
   "mimetype": "text/x-python",
   "name": "python",
   "nbconvert_exporter": "python",
   "pygments_lexer": "ipython3",
   "version": "3.7.3"
  }
 },
 "nbformat": 4,
 "nbformat_minor": 2
}
